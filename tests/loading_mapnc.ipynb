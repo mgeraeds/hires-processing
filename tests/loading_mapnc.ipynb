{
 "cells": [
  {
   "cell_type": "markdown",
   "metadata": {},
   "source": [
    "# Initialize packages"
   ]
  },
  {
   "cell_type": "code",
   "execution_count": 1,
   "metadata": {
    "metadata": {}
   },
   "outputs": [],
   "source": [
    "import numpy as np\n",
    "import xarray as xr\n",
    "import dfm_tools as dfmt"
   ]
  },
  {
   "cell_type": "code",
   "execution_count": 2,
   "metadata": {
    "metadata": {}
   },
   "outputs": [],
   "source": [
    "import glob\n",
    "import warnings"
   ]
  },
  {
   "cell_type": "code",
   "execution_count": 81,
   "metadata": {
    "metadata": {}
   },
   "outputs": [],
   "source": [
    "import dask\n",
    "import os\n",
    "import pandas as pd"
   ]
  },
  {
   "cell_type": "code",
   "execution_count": 3,
   "metadata": {
    "metadata": {}
   },
   "outputs": [],
   "source": [
    "from dask_jobqueue import SLURMCluster\n",
    "from dask.distributed import Client"
   ]
  },
  {
   "cell_type": "markdown",
   "metadata": {},
   "source": [
    "# Initialize Dask cluster"
   ]
  },
  {
   "cell_type": "code",
   "execution_count": 4,
   "metadata": {
    "metadata": {}
   },
   "outputs": [],
   "source": [
    "n_cores = 16\n",
    "n_processes = 4\n",
    "mem_lim = str(336)+'GB' #taking the entire node #str(int(np.floor(336/(n_cores*n_processes))))+'GB' # 768 GB of memory for one entire memory node on DelftBlue"
   ]
  },
  {
   "cell_type": "code",
   "execution_count": 5,
   "metadata": {
    "metadata": {}
   },
   "outputs": [
    {
     "data": {
      "text/plain": [
       "'336GB'"
      ]
     },
     "execution_count": 5,
     "metadata": {},
     "output_type": "execute_result"
    }
   ],
   "source": [
    "mem_lim"
   ]
  },
  {
   "cell_type": "code",
   "execution_count": 6,
   "metadata": {
    "metadata": {}
   },
   "outputs": [],
   "source": [
    "cluster = SLURMCluster(name='dask-cluster',\n",
    "                       cores=n_cores,\n",
    "                       memory=mem_lim,\n",
    "                       processes=n_processes,\n",
    "                       interface='ib0',\n",
    "                       queue='genoa',\n",
    "                       walltime='04:00:00',\n",
    "                       asynchronous=0)"
   ]
  },
  {
   "cell_type": "code",
   "execution_count": 7,
   "metadata": {
    "metadata": {}
   },
   "outputs": [
    {
     "name": "stdout",
     "output_type": "stream",
     "text": [
      "#!/usr/bin/env bash\n",
      "\n",
      "#SBATCH -J dask-worker\n",
      "#SBATCH -p genoa\n",
      "#SBATCH -n 1\n",
      "#SBATCH --cpus-per-task=16\n",
      "#SBATCH --mem=313G\n",
      "#SBATCH -t 04:00:00\n",
      "\n",
      "/home/mgeraeds/.conda/envs/dfm_proc_env/bin/python -m distributed.cli.dask_worker tcp://172.22.63.191:35159 --name dummy-name --nthreads 4 --memory-limit 78.23GiB --nworkers 4 --nanny --death-timeout 60 --interface ib0\n",
      "\n"
     ]
    }
   ],
   "source": [
    "print(cluster.job_script())"
   ]
  },
  {
   "cell_type": "code",
   "execution_count": 8,
   "metadata": {
    "metadata": {}
   },
   "outputs": [],
   "source": [
    "cluster.scale(1)"
   ]
  },
  {
   "cell_type": "code",
   "execution_count": 9,
   "metadata": {
    "metadata": {}
   },
   "outputs": [],
   "source": [
    "client = Client(cluster)"
   ]
  },
  {
   "cell_type": "code",
   "execution_count": 10,
   "metadata": {
    "metadata": {}
   },
   "outputs": [
    {
     "data": {
      "text/html": [
       "<div>\n",
       "    <div style=\"width: 24px; height: 24px; background-color: #e1e1e1; border: 3px solid #9D9D9D; border-radius: 5px; position: absolute;\"> </div>\n",
       "    <div style=\"margin-left: 48px;\">\n",
       "        <h3 style=\"margin-bottom: 0px;\">Client</h3>\n",
       "        <p style=\"color: #9D9D9D; margin-bottom: 0px;\">Client-efec7c3a-0217-11ef-b1a7-00001029fe80</p>\n",
       "        <table style=\"width: 100%; text-align: left;\">\n",
       "\n",
       "        <tr>\n",
       "        \n",
       "            <td style=\"text-align: left;\"><strong>Connection method:</strong> Cluster object</td>\n",
       "            <td style=\"text-align: left;\"><strong>Cluster type:</strong> dask_jobqueue.SLURMCluster</td>\n",
       "        \n",
       "        </tr>\n",
       "\n",
       "        \n",
       "            <tr>\n",
       "                <td style=\"text-align: left;\">\n",
       "                    <strong>Dashboard: </strong> <a href=\"http://172.22.63.191:8787/status\" target=\"_blank\">http://172.22.63.191:8787/status</a>\n",
       "                </td>\n",
       "                <td style=\"text-align: left;\"></td>\n",
       "            </tr>\n",
       "        \n",
       "\n",
       "        </table>\n",
       "\n",
       "        \n",
       "\n",
       "        \n",
       "            <details>\n",
       "            <summary style=\"margin-bottom: 20px;\"><h3 style=\"display: inline;\">Cluster Info</h3></summary>\n",
       "            <div class=\"jp-RenderedHTMLCommon jp-RenderedHTML jp-mod-trusted jp-OutputArea-output\">\n",
       "    <div style=\"width: 24px; height: 24px; background-color: #e1e1e1; border: 3px solid #9D9D9D; border-radius: 5px; position: absolute;\">\n",
       "    </div>\n",
       "    <div style=\"margin-left: 48px;\">\n",
       "        <h3 style=\"margin-bottom: 0px; margin-top: 0px;\">SLURMCluster</h3>\n",
       "        <p style=\"color: #9D9D9D; margin-bottom: 0px;\">dask-cluster</p>\n",
       "        <table style=\"width: 100%; text-align: left;\">\n",
       "            <tr>\n",
       "                <td style=\"text-align: left;\">\n",
       "                    <strong>Dashboard:</strong> <a href=\"http://172.22.63.191:8787/status\" target=\"_blank\">http://172.22.63.191:8787/status</a>\n",
       "                </td>\n",
       "                <td style=\"text-align: left;\">\n",
       "                    <strong>Workers:</strong> 4\n",
       "                </td>\n",
       "            </tr>\n",
       "            <tr>\n",
       "                <td style=\"text-align: left;\">\n",
       "                    <strong>Total threads:</strong> 16\n",
       "                </td>\n",
       "                <td style=\"text-align: left;\">\n",
       "                    <strong>Total memory:</strong> 312.92 GiB\n",
       "                </td>\n",
       "            </tr>\n",
       "            \n",
       "        </table>\n",
       "\n",
       "        <details>\n",
       "            <summary style=\"margin-bottom: 20px;\">\n",
       "                <h3 style=\"display: inline;\">Scheduler Info</h3>\n",
       "            </summary>\n",
       "\n",
       "            <div style=\"\">\n",
       "    <div>\n",
       "        <div style=\"width: 24px; height: 24px; background-color: #FFF7E5; border: 3px solid #FF6132; border-radius: 5px; position: absolute;\"> </div>\n",
       "        <div style=\"margin-left: 48px;\">\n",
       "            <h3 style=\"margin-bottom: 0px;\">Scheduler</h3>\n",
       "            <p style=\"color: #9D9D9D; margin-bottom: 0px;\">Scheduler-0aa40390-2982-4469-834b-a37f3269d33d</p>\n",
       "            <table style=\"width: 100%; text-align: left;\">\n",
       "                <tr>\n",
       "                    <td style=\"text-align: left;\">\n",
       "                        <strong>Comm:</strong> tcp://172.22.63.191:35159\n",
       "                    </td>\n",
       "                    <td style=\"text-align: left;\">\n",
       "                        <strong>Workers:</strong> 4\n",
       "                    </td>\n",
       "                </tr>\n",
       "                <tr>\n",
       "                    <td style=\"text-align: left;\">\n",
       "                        <strong>Dashboard:</strong> <a href=\"http://172.22.63.191:8787/status\" target=\"_blank\">http://172.22.63.191:8787/status</a>\n",
       "                    </td>\n",
       "                    <td style=\"text-align: left;\">\n",
       "                        <strong>Total threads:</strong> 16\n",
       "                    </td>\n",
       "                </tr>\n",
       "                <tr>\n",
       "                    <td style=\"text-align: left;\">\n",
       "                        <strong>Started:</strong> Just now\n",
       "                    </td>\n",
       "                    <td style=\"text-align: left;\">\n",
       "                        <strong>Total memory:</strong> 312.92 GiB\n",
       "                    </td>\n",
       "                </tr>\n",
       "            </table>\n",
       "        </div>\n",
       "    </div>\n",
       "\n",
       "    <details style=\"margin-left: 48px;\">\n",
       "        <summary style=\"margin-bottom: 20px;\">\n",
       "            <h3 style=\"display: inline;\">Workers</h3>\n",
       "        </summary>\n",
       "\n",
       "        \n",
       "        <div style=\"margin-bottom: 20px;\">\n",
       "            <div style=\"width: 24px; height: 24px; background-color: #DBF5FF; border: 3px solid #4CC9FF; border-radius: 5px; position: absolute;\"> </div>\n",
       "            <div style=\"margin-left: 48px;\">\n",
       "            <details>\n",
       "                <summary>\n",
       "                    <h4 style=\"margin-bottom: 0px; display: inline;\">Worker: dask-cluster-0-0</h4>\n",
       "                </summary>\n",
       "                <table style=\"width: 100%; text-align: left;\">\n",
       "                    <tr>\n",
       "                        <td style=\"text-align: left;\">\n",
       "                            <strong>Comm: </strong> tcp://172.22.59.199:42133\n",
       "                        </td>\n",
       "                        <td style=\"text-align: left;\">\n",
       "                            <strong>Total threads: </strong> 4\n",
       "                        </td>\n",
       "                    </tr>\n",
       "                    <tr>\n",
       "                        <td style=\"text-align: left;\">\n",
       "                            <strong>Dashboard: </strong> <a href=\"http://172.22.59.199:33693/status\" target=\"_blank\">http://172.22.59.199:33693/status</a>\n",
       "                        </td>\n",
       "                        <td style=\"text-align: left;\">\n",
       "                            <strong>Memory: </strong> 78.23 GiB\n",
       "                        </td>\n",
       "                    </tr>\n",
       "                    <tr>\n",
       "                        <td style=\"text-align: left;\">\n",
       "                            <strong>Nanny: </strong> tcp://172.22.59.199:38119\n",
       "                        </td>\n",
       "                        <td style=\"text-align: left;\"></td>\n",
       "                    </tr>\n",
       "                    <tr>\n",
       "                        <td colspan=\"2\" style=\"text-align: left;\">\n",
       "                            <strong>Local directory: </strong> /scratch-local/mgeraeds.6030281/dask-scratch-space/worker-r5md41xc\n",
       "                        </td>\n",
       "                    </tr>\n",
       "\n",
       "                    \n",
       "\n",
       "                    \n",
       "\n",
       "                </table>\n",
       "            </details>\n",
       "            </div>\n",
       "        </div>\n",
       "        \n",
       "        <div style=\"margin-bottom: 20px;\">\n",
       "            <div style=\"width: 24px; height: 24px; background-color: #DBF5FF; border: 3px solid #4CC9FF; border-radius: 5px; position: absolute;\"> </div>\n",
       "            <div style=\"margin-left: 48px;\">\n",
       "            <details>\n",
       "                <summary>\n",
       "                    <h4 style=\"margin-bottom: 0px; display: inline;\">Worker: dask-cluster-0-1</h4>\n",
       "                </summary>\n",
       "                <table style=\"width: 100%; text-align: left;\">\n",
       "                    <tr>\n",
       "                        <td style=\"text-align: left;\">\n",
       "                            <strong>Comm: </strong> tcp://172.22.59.199:41849\n",
       "                        </td>\n",
       "                        <td style=\"text-align: left;\">\n",
       "                            <strong>Total threads: </strong> 4\n",
       "                        </td>\n",
       "                    </tr>\n",
       "                    <tr>\n",
       "                        <td style=\"text-align: left;\">\n",
       "                            <strong>Dashboard: </strong> <a href=\"http://172.22.59.199:35887/status\" target=\"_blank\">http://172.22.59.199:35887/status</a>\n",
       "                        </td>\n",
       "                        <td style=\"text-align: left;\">\n",
       "                            <strong>Memory: </strong> 78.23 GiB\n",
       "                        </td>\n",
       "                    </tr>\n",
       "                    <tr>\n",
       "                        <td style=\"text-align: left;\">\n",
       "                            <strong>Nanny: </strong> tcp://172.22.59.199:33743\n",
       "                        </td>\n",
       "                        <td style=\"text-align: left;\"></td>\n",
       "                    </tr>\n",
       "                    <tr>\n",
       "                        <td colspan=\"2\" style=\"text-align: left;\">\n",
       "                            <strong>Local directory: </strong> /scratch-local/mgeraeds.6030281/dask-scratch-space/worker-9l6m17re\n",
       "                        </td>\n",
       "                    </tr>\n",
       "\n",
       "                    \n",
       "\n",
       "                    \n",
       "\n",
       "                </table>\n",
       "            </details>\n",
       "            </div>\n",
       "        </div>\n",
       "        \n",
       "        <div style=\"margin-bottom: 20px;\">\n",
       "            <div style=\"width: 24px; height: 24px; background-color: #DBF5FF; border: 3px solid #4CC9FF; border-radius: 5px; position: absolute;\"> </div>\n",
       "            <div style=\"margin-left: 48px;\">\n",
       "            <details>\n",
       "                <summary>\n",
       "                    <h4 style=\"margin-bottom: 0px; display: inline;\">Worker: dask-cluster-0-2</h4>\n",
       "                </summary>\n",
       "                <table style=\"width: 100%; text-align: left;\">\n",
       "                    <tr>\n",
       "                        <td style=\"text-align: left;\">\n",
       "                            <strong>Comm: </strong> tcp://172.22.59.199:39931\n",
       "                        </td>\n",
       "                        <td style=\"text-align: left;\">\n",
       "                            <strong>Total threads: </strong> 4\n",
       "                        </td>\n",
       "                    </tr>\n",
       "                    <tr>\n",
       "                        <td style=\"text-align: left;\">\n",
       "                            <strong>Dashboard: </strong> <a href=\"http://172.22.59.199:42633/status\" target=\"_blank\">http://172.22.59.199:42633/status</a>\n",
       "                        </td>\n",
       "                        <td style=\"text-align: left;\">\n",
       "                            <strong>Memory: </strong> 78.23 GiB\n",
       "                        </td>\n",
       "                    </tr>\n",
       "                    <tr>\n",
       "                        <td style=\"text-align: left;\">\n",
       "                            <strong>Nanny: </strong> tcp://172.22.59.199:39431\n",
       "                        </td>\n",
       "                        <td style=\"text-align: left;\"></td>\n",
       "                    </tr>\n",
       "                    <tr>\n",
       "                        <td colspan=\"2\" style=\"text-align: left;\">\n",
       "                            <strong>Local directory: </strong> /scratch-local/mgeraeds.6030281/dask-scratch-space/worker-7m5g3net\n",
       "                        </td>\n",
       "                    </tr>\n",
       "\n",
       "                    \n",
       "\n",
       "                    \n",
       "\n",
       "                </table>\n",
       "            </details>\n",
       "            </div>\n",
       "        </div>\n",
       "        \n",
       "        <div style=\"margin-bottom: 20px;\">\n",
       "            <div style=\"width: 24px; height: 24px; background-color: #DBF5FF; border: 3px solid #4CC9FF; border-radius: 5px; position: absolute;\"> </div>\n",
       "            <div style=\"margin-left: 48px;\">\n",
       "            <details>\n",
       "                <summary>\n",
       "                    <h4 style=\"margin-bottom: 0px; display: inline;\">Worker: dask-cluster-0-3</h4>\n",
       "                </summary>\n",
       "                <table style=\"width: 100%; text-align: left;\">\n",
       "                    <tr>\n",
       "                        <td style=\"text-align: left;\">\n",
       "                            <strong>Comm: </strong> tcp://172.22.59.199:44597\n",
       "                        </td>\n",
       "                        <td style=\"text-align: left;\">\n",
       "                            <strong>Total threads: </strong> 4\n",
       "                        </td>\n",
       "                    </tr>\n",
       "                    <tr>\n",
       "                        <td style=\"text-align: left;\">\n",
       "                            <strong>Dashboard: </strong> <a href=\"http://172.22.59.199:37855/status\" target=\"_blank\">http://172.22.59.199:37855/status</a>\n",
       "                        </td>\n",
       "                        <td style=\"text-align: left;\">\n",
       "                            <strong>Memory: </strong> 78.23 GiB\n",
       "                        </td>\n",
       "                    </tr>\n",
       "                    <tr>\n",
       "                        <td style=\"text-align: left;\">\n",
       "                            <strong>Nanny: </strong> tcp://172.22.59.199:34879\n",
       "                        </td>\n",
       "                        <td style=\"text-align: left;\"></td>\n",
       "                    </tr>\n",
       "                    <tr>\n",
       "                        <td colspan=\"2\" style=\"text-align: left;\">\n",
       "                            <strong>Local directory: </strong> /scratch-local/mgeraeds.6030281/dask-scratch-space/worker-6tcxn36i\n",
       "                        </td>\n",
       "                    </tr>\n",
       "\n",
       "                    \n",
       "\n",
       "                    \n",
       "\n",
       "                </table>\n",
       "            </details>\n",
       "            </div>\n",
       "        </div>\n",
       "        \n",
       "\n",
       "    </details>\n",
       "</div>\n",
       "\n",
       "        </details>\n",
       "    </div>\n",
       "</div>\n",
       "            </details>\n",
       "        \n",
       "\n",
       "    </div>\n",
       "</div>"
      ],
      "text/plain": [
       "<Client: 'tcp://172.22.63.191:35159' processes=4 threads=16, memory=312.92 GiB>"
      ]
     },
     "execution_count": 10,
     "metadata": {},
     "output_type": "execute_result"
    }
   ],
   "source": [
    "client"
   ]
  },
  {
   "cell_type": "code",
   "execution_count": 80,
   "metadata": {
    "metadata": {}
   },
   "outputs": [
    {
     "data": {
      "text/plain": [
       "'336GB'"
      ]
     },
     "execution_count": 80,
     "metadata": {},
     "output_type": "execute_result"
    }
   ],
   "source": [
    "mem_lim"
   ]
  },
  {
   "cell_type": "code",
   "execution_count": 11,
   "metadata": {
    "metadata": {}
   },
   "outputs": [
    {
     "data": {
      "text/plain": [
       "'http://172.22.63.191:8787/status'"
      ]
     },
     "execution_count": 11,
     "metadata": {},
     "output_type": "execute_result"
    }
   ],
   "source": [
    "client.dashboard_link"
   ]
  },
  {
   "cell_type": "markdown",
   "metadata": {},
   "source": [
    "# Load large (complete) dataset"
   ]
  },
  {
   "cell_type": "code",
   "execution_count": 12,
   "metadata": {
    "metadata": {}
   },
   "outputs": [],
   "source": [
    "input_regex = r'/projects/0/einf1300/saltis-wp3-1/C_Work/00_RMM3d_2022_simulations/computations/B02_2022_jul21-aug7/B02_2022_jul21-aug7_sm/RMM_dflowfm_2022_jul21_aug7_sm_000*_map.nc'"
   ]
  },
  {
   "cell_type": "markdown",
   "metadata": {},
   "source": [
    "Check if any of the input files are corrupted."
   ]
  },
  {
   "cell_type": "code",
   "execution_count": 14,
   "metadata": {
    "metadata": {}
   },
   "outputs": [],
   "source": [
    "## 1. Input tests\n",
    "# 1.x. Loop through all of the files and write when there is something wrong with the file\n",
    "file_list = glob.glob(input_regex)\n",
    "\n",
    "# 1.x Make a list for corrupted files\n",
    "corrupted = []\n",
    "\n",
    "for file in file_list:\n",
    "\n",
    "    file_name = file.split('/')[-1]\n",
    "    \n",
    "    try:\n",
    "        test = xr.open_dataset(file)\n",
    "    except:\n",
    "        warnings.warn(f'The file {file_name} seems to be corrupted. Check your inputs.', UserWarning)\n",
    "        corrupted.append(file)"
   ]
  },
  {
   "cell_type": "markdown",
   "metadata": {},
   "source": [
    "If any of the files are corrupted, take them out of the file list to be loaded."
   ]
  },
  {
   "cell_type": "code",
   "execution_count": 15,
   "metadata": {
    "metadata": {}
   },
   "outputs": [],
   "source": [
    "# I.x Check if there are any corrupted files in the listed files\n",
    "if len(corrupted) > 0:\n",
    "    print('There are corrupted files. These will be taken out of the file list for the next tests.')\n",
    "    \n",
    "# I.x Get the entire input list and remove the corrupted files\n",
    "input_files = [f for f in glob.glob(input_regex) if not f in corrupted]"
   ]
  },
  {
   "cell_type": "markdown",
   "metadata": {},
   "source": [
    "Append another random partition for testing purposes."
   ]
  },
  {
   "cell_type": "code",
   "execution_count": 17,
   "metadata": {
    "metadata": {}
   },
   "outputs": [],
   "source": [
    "input_files.append('/projects/0/einf1300/saltis-wp3-1/C_Work/00_RMM3d_2022_simulations/computations/B02_2022_jul21-aug7/B02_2022_jul21-aug7_sm/RMM_dflowfm_2022_jul21_aug7_sm_0122_map.nc')"
   ]
  },
  {
   "cell_type": "markdown",
   "metadata": {},
   "source": [
    "Load the data."
   ]
  },
  {
   "cell_type": "code",
   "execution_count": 18,
   "metadata": {
    "metadata": {}
   },
   "outputs": [
    {
     "name": "stdout",
     "output_type": "stream",
     "text": [
      ">> xu.open_dataset() with 11 partition(s): 1 "
     ]
    },
    {
     "name": "stderr",
     "output_type": "stream",
     "text": [
      "/home/mgeraeds/.conda/envs/dfm_proc_env/lib/python3.9/site-packages/xarray/core/dataset.py:278: UserWarning: The specified chunks separate the stored chunks along dimension \"time\" starting at index 1. This could degrade performance. Instead, consider rechunking after loading.\n",
      "  warnings.warn(\n"
     ]
    },
    {
     "name": "stdout",
     "output_type": "stream",
     "text": [
      "2 "
     ]
    },
    {
     "name": "stderr",
     "output_type": "stream",
     "text": [
      "/home/mgeraeds/.conda/envs/dfm_proc_env/lib/python3.9/site-packages/xarray/core/dataset.py:278: UserWarning: The specified chunks separate the stored chunks along dimension \"time\" starting at index 1. This could degrade performance. Instead, consider rechunking after loading.\n",
      "  warnings.warn(\n"
     ]
    },
    {
     "name": "stdout",
     "output_type": "stream",
     "text": [
      "3 "
     ]
    },
    {
     "name": "stderr",
     "output_type": "stream",
     "text": [
      "/home/mgeraeds/.conda/envs/dfm_proc_env/lib/python3.9/site-packages/xarray/core/dataset.py:278: UserWarning: The specified chunks separate the stored chunks along dimension \"time\" starting at index 1. This could degrade performance. Instead, consider rechunking after loading.\n",
      "  warnings.warn(\n"
     ]
    },
    {
     "name": "stdout",
     "output_type": "stream",
     "text": [
      "4 "
     ]
    },
    {
     "name": "stderr",
     "output_type": "stream",
     "text": [
      "/home/mgeraeds/.conda/envs/dfm_proc_env/lib/python3.9/site-packages/xarray/core/dataset.py:278: UserWarning: The specified chunks separate the stored chunks along dimension \"time\" starting at index 1. This could degrade performance. Instead, consider rechunking after loading.\n",
      "  warnings.warn(\n"
     ]
    },
    {
     "name": "stdout",
     "output_type": "stream",
     "text": [
      "5 "
     ]
    },
    {
     "name": "stderr",
     "output_type": "stream",
     "text": [
      "/home/mgeraeds/.conda/envs/dfm_proc_env/lib/python3.9/site-packages/xarray/core/dataset.py:278: UserWarning: The specified chunks separate the stored chunks along dimension \"time\" starting at index 1. This could degrade performance. Instead, consider rechunking after loading.\n",
      "  warnings.warn(\n"
     ]
    },
    {
     "name": "stdout",
     "output_type": "stream",
     "text": [
      "6 "
     ]
    },
    {
     "name": "stderr",
     "output_type": "stream",
     "text": [
      "/home/mgeraeds/.conda/envs/dfm_proc_env/lib/python3.9/site-packages/xarray/core/dataset.py:278: UserWarning: The specified chunks separate the stored chunks along dimension \"time\" starting at index 1. This could degrade performance. Instead, consider rechunking after loading.\n",
      "  warnings.warn(\n"
     ]
    },
    {
     "name": "stdout",
     "output_type": "stream",
     "text": [
      "7 "
     ]
    },
    {
     "name": "stderr",
     "output_type": "stream",
     "text": [
      "/home/mgeraeds/.conda/envs/dfm_proc_env/lib/python3.9/site-packages/xarray/core/dataset.py:278: UserWarning: The specified chunks separate the stored chunks along dimension \"time\" starting at index 1. This could degrade performance. Instead, consider rechunking after loading.\n",
      "  warnings.warn(\n"
     ]
    },
    {
     "name": "stdout",
     "output_type": "stream",
     "text": [
      "8 "
     ]
    },
    {
     "name": "stderr",
     "output_type": "stream",
     "text": [
      "/home/mgeraeds/.conda/envs/dfm_proc_env/lib/python3.9/site-packages/xarray/core/dataset.py:278: UserWarning: The specified chunks separate the stored chunks along dimension \"time\" starting at index 1. This could degrade performance. Instead, consider rechunking after loading.\n",
      "  warnings.warn(\n"
     ]
    },
    {
     "name": "stdout",
     "output_type": "stream",
     "text": [
      "9 "
     ]
    },
    {
     "name": "stderr",
     "output_type": "stream",
     "text": [
      "/home/mgeraeds/.conda/envs/dfm_proc_env/lib/python3.9/site-packages/xarray/core/dataset.py:278: UserWarning: The specified chunks separate the stored chunks along dimension \"time\" starting at index 1. This could degrade performance. Instead, consider rechunking after loading.\n",
      "  warnings.warn(\n"
     ]
    },
    {
     "name": "stdout",
     "output_type": "stream",
     "text": [
      "10 "
     ]
    },
    {
     "name": "stderr",
     "output_type": "stream",
     "text": [
      "/home/mgeraeds/.conda/envs/dfm_proc_env/lib/python3.9/site-packages/xarray/core/dataset.py:278: UserWarning: The specified chunks separate the stored chunks along dimension \"time\" starting at index 1. This could degrade performance. Instead, consider rechunking after loading.\n",
      "  warnings.warn(\n"
     ]
    },
    {
     "name": "stdout",
     "output_type": "stream",
     "text": [
      "11 "
     ]
    },
    {
     "name": "stderr",
     "output_type": "stream",
     "text": [
      "/home/mgeraeds/.conda/envs/dfm_proc_env/lib/python3.9/site-packages/xarray/core/dataset.py:278: UserWarning: The specified chunks separate the stored chunks along dimension \"time\" starting at index 1. This could degrade performance. Instead, consider rechunking after loading.\n",
      "  warnings.warn(\n"
     ]
    },
    {
     "name": "stdout",
     "output_type": "stream",
     "text": [
      ": 11.80 sec\n",
      ">> xu.merge_partitions() with 11 partition(s): 0.81 sec\n",
      ">> some variables dropped with merging of partitions: ['mesh2d_face_x_bnd', 'mesh2d_face_y_bnd']\n",
      ">> dfmt.open_partitioned_dataset() total: 12.62 sec\n"
     ]
    }
   ],
   "source": [
    "data_xr = dfmt.open_partitioned_dataset(input_files, chunks={'time':1})"
   ]
  },
  {
   "cell_type": "markdown",
   "metadata": {},
   "source": [
    "Determine the variables to keep for the next computation and define `ds`."
   ]
  },
  {
   "cell_type": "code",
   "execution_count": 49,
   "metadata": {
    "metadata": {}
   },
   "outputs": [],
   "source": [
    "keep_variables = ['mesh2d_sa1', 'mesh2d_node_z', 'mesh2d_ucx', 'mesh2d_ucy', 'mesh2d_ucz', 'mesh2d_vol1', 'mesh2d_vicwwu','mesh2d_tem1']\n",
    "ds = data_xr[keep_variables]"
   ]
  },
  {
   "cell_type": "markdown",
   "metadata": {},
   "source": [
    "Visualize the loaded data to see if it's consistent."
   ]
  },
  {
   "cell_type": "code",
   "execution_count": 19,
   "metadata": {
    "metadata": {}
   },
   "outputs": [
    {
     "data": {
      "text/plain": [
       "<matplotlib.collections.PolyCollection at 0x15532399d520>"
      ]
     },
     "execution_count": 19,
     "metadata": {},
     "output_type": "execute_result"
    },
    {
     "data": {
      "image/png": "[encoded data removed]",
      "text/plain": [
       "<Figure size 640x480 with 2 Axes>"
      ]
     },
     "metadata": {},
     "output_type": "display_data"
    }
   ],
   "source": [
    "data_xr.isel(time=5, mesh2d_nLayers=45)['mesh2d_sa1'].ugrid.plot()"
   ]
  },
  {
   "cell_type": "markdown",
   "metadata": {
    "metadata": {}
   },
   "source": [
    "# Testing write total"
   ]
  },
  {
   "cell_type": "code",
   "execution_count": 20,
   "metadata": {
    "metadata": {}
   },
   "outputs": [],
   "source": [
    "out_file = r'testing_readwrite_map.nc'"
   ]
  },
  {
   "cell_type": "code",
   "execution_count": 41,
   "metadata": {
    "metadata": {}
   },
   "outputs": [
    {
     "name": "stderr",
     "output_type": "stream",
     "text": [
      "/home/mgeraeds/.conda/envs/dfm_proc_env/lib/python3.9/site-packages/distributed/client.py:3163: UserWarning: Sending large graph of size 15.69 MiB.\n",
      "This may cause some slowdown.\n",
      "Consider scattering data ahead of time and using futures.\n",
      "  warnings.warn(\n"
     ]
    }
   ],
   "source": [
    "# ds.ugrid.to_netcdf(out_file, compute=True)\n",
    "with ProgressBar():\n",
    "    ds.ugrid.to_netcdf(out_file, compute=True)"
   ]
  },
  {
   "cell_type": "code",
   "execution_count": 45,
   "metadata": {
    "metadata": {}
   },
   "outputs": [],
   "source": [
    "out_file = 'testing_readwrite2_map.nc'"
   ]
  },
  {
   "cell_type": "code",
   "execution_count": 46,
   "metadata": {
    "metadata": {}
   },
   "outputs": [
    {
     "name": "stderr",
     "output_type": "stream",
     "text": [
      "/home/mgeraeds/.conda/envs/dfm_proc_env/lib/python3.9/site-packages/distributed/client.py:3163: UserWarning: Sending large graph of size 14.87 MiB.\n",
      "This may cause some slowdown.\n",
      "Consider scattering data ahead of time and using futures.\n",
      "  warnings.warn(\n"
     ]
    }
   ],
   "source": [
    "xrds = ds.ugrid.to_dataset()\n",
    "write_task = xrds.to_netcdf(out_file, compute=False)\n",
    "with ProgressBar():\n",
    "    write_task.compute()"
   ]
  },
  {
   "cell_type": "code",
   "execution_count": 53,
   "metadata": {
    "metadata": {}
   },
   "outputs": [
    {
     "name": "stdout",
     "output_type": "stream",
     "text": [
      ">> xu.open_dataset() with 1 partition(s): 1 [7 nan fillvalue attrs removed][nodomainvar] : 1.15 sec\n"
     ]
    }
   ],
   "source": [
    "testing_load = dfmt.open_partitioned_dataset('testing_readwrite_total_map.nc')"
   ]
  },
  {
   "cell_type": "markdown",
   "metadata": {},
   "source": [
    "# Testing write per variable"
   ]
  },
  {
   "cell_type": "markdown",
   "metadata": {},
   "source": [
    "Determine the name of the output file."
   ]
  },
  {
   "cell_type": "code",
   "execution_count": 73,
   "metadata": {
    "metadata": {}
   },
   "outputs": [],
   "source": [
    "out_file = r'variable_test.nc'"
   ]
  },
  {
   "cell_type": "code",
   "execution_count": 83,
   "metadata": {
    "metadata": {}
   },
   "outputs": [
    {
     "name": "stdout",
     "output_type": "stream",
     "text": [
      "Starting selection of variable mesh2d_sa1...\n",
      "Loaded the dataset at variable mesh2d_sa1.\n",
      "Writing file to disk...\n",
      "Outputfile: variable_test_sizedec.nc\n",
      "Starting selection of variable mesh2d_node_z...\n",
      "Loaded the dataset at variable mesh2d_node_z.\n",
      "Writing file to disk in append mode...\n",
      "Outputfile: variable_test_sizedec.nc\n",
      "Starting selection of variable mesh2d_ucx...\n",
      "Loaded the dataset at variable mesh2d_ucx.\n",
      "Writing file to disk in append mode...\n",
      "Outputfile: variable_test_sizedec.nc\n",
      "Starting selection of variable mesh2d_ucy...\n",
      "Loaded the dataset at variable mesh2d_ucy.\n",
      "Writing file to disk in append mode...\n",
      "Outputfile: variable_test_sizedec.nc\n"
     ]
    }
   ],
   "source": [
    "# Define counter for possible subdivision of times in writing\n",
    "i = 0\n",
    "tds = ds.isel(time=slice(0,100))\n",
    "\n",
    "for v in keep_variables:\n",
    "\n",
    "    # > Select the time\n",
    "    print(f'Starting selection of variable {v}...')\n",
    "    vds = tds[v].astype('float32', casting='same_kind') # first test with reducing the data\n",
    "\n",
    "    print(f'Loaded the dataset at variable {v}.')\n",
    "\n",
    "    if i == 0:\n",
    "        # > For t = 0 in the range of timesteps, check if there's a file\n",
    "        # > already present. If it is, remove it.\n",
    "        if os.path.isfile(out_file):\n",
    "            os.remove(out_file)\n",
    "\n",
    "        # Use dask.delayed to write file to disk\n",
    "        print('Writing file to disk...')\n",
    "        print(f\"Outputfile: {out_file}\")\n",
    "        vds.ugrid.to_netcdf(out_file, mode='w', compute=True)\n",
    "\n",
    "    else:\n",
    "        # Use dask.delayed to write file to disk\n",
    "        print('Writing file to disk in append mode...')\n",
    "        print(f\"Outputfile: {out_file}\")\n",
    "        vds.ugrid.to_netcdf(out_file, mode='a', compute=True)\n",
    "\n",
    "    # writing_task.compute()\n",
    "    vds.close()\n",
    "\n",
    "    # > Update counter\n",
    "    i += 1"
   ]
  },
  {
   "cell_type": "code",
   "execution_count": 59,
   "metadata": {
    "metadata": {}
   },
   "outputs": [],
   "source": [
    "import xugrid as xu"
   ]
  },
  {
   "cell_type": "markdown",
   "metadata": {},
   "source": [
    "Re-load the dataset to check written contents (first into xarray and then into an xugrid.UgridDataset)."
   ]
  },
  {
   "cell_type": "code",
   "execution_count": 76,
   "metadata": {
    "metadata": {}
   },
   "outputs": [],
   "source": [
    "testing_load2 = xr.open_dataset('variable_test_sizedec.nc')\n",
    "testing_load2 = xu.UgridDataset(testing_load2)"
   ]
  },
  {
   "cell_type": "markdown",
   "metadata": {},
   "source": [
    "Visualize the data."
   ]
  },
  {
   "cell_type": "code",
   "execution_count": 78,
   "metadata": {
    "metadata": {}
   },
   "outputs": [
    {
     "data": {
      "text/plain": [
       "<matplotlib.collections.PolyCollection at 0x152f5bd0ee50>"
      ]
     },
     "execution_count": 78,
     "metadata": {},
     "output_type": "execute_result"
    },
    {
     "data": {
      "image/png": "[encoded data removed]",
      "text/plain": [
       "<Figure size 640x480 with 2 Axes>"
      ]
     },
     "metadata": {},
     "output_type": "display_data"
    }
   ],
   "source": [
    "testing_load2.isel(time=5, mesh2d_nLayers=46)['mesh2d_sa1'].ugrid.plot()"
   ]
  },
  {
   "cell_type": "code",
   "execution_count": 79,
   "metadata": {
    "metadata": {}
   },
   "outputs": [
    {
     "data": {
      "text/html": [
       "<div><svg style=\"position: absolute; width: 0; height: 0; overflow: hidden\">\n",
       "<defs>\n",
       "<symbol id=\"icon-database\" viewBox=\"0 0 32 32\">\n",
       "<path d=\"M16 0c-8.837 0-16 2.239-16 5v4c0 2.761 7.163 5 16 5s16-2.239 16-5v-4c0-2.761-7.163-5-16-5z\"></path>\n",
       "<path d=\"M16 17c-8.837 0-16-2.239-16-5v6c0 2.761 7.163 5 16 5s16-2.239 16-5v-6c0 2.761-7.163 5-16 5z\"></path>\n",
       "<path d=\"M16 26c-8.837 0-16-2.239-16-5v6c0 2.761 7.163 5 16 5s16-2.239 16-5v-6c0 2.761-7.163 5-16 5z\"></path>\n",
       "</symbol>\n",
       "<symbol id=\"icon-file-text2\" viewBox=\"0 0 32 32\">\n",
       "<path d=\"M28.681 7.159c-0.694-0.947-1.662-2.053-2.724-3.116s-2.169-2.030-3.116-2.724c-1.612-1.182-2.393-1.319-2.841-1.319h-15.5c-1.378 0-2.5 1.121-2.5 2.5v27c0 1.378 1.122 2.5 2.5 2.5h23c1.378 0 2.5-1.122 2.5-2.5v-19.5c0-0.448-0.137-1.23-1.319-2.841zM24.543 5.457c0.959 0.959 1.712 1.825 2.268 2.543h-4.811v-4.811c0.718 0.556 1.584 1.309 2.543 2.268zM28 29.5c0 0.271-0.229 0.5-0.5 0.5h-23c-0.271 0-0.5-0.229-0.5-0.5v-27c0-0.271 0.229-0.5 0.5-0.5 0 0 15.499-0 15.5 0v7c0 0.552 0.448 1 1 1h7v19.5z\"></path>\n",
       "<path d=\"M23 26h-14c-0.552 0-1-0.448-1-1s0.448-1 1-1h14c0.552 0 1 0.448 1 1s-0.448 1-1 1z\"></path>\n",
       "<path d=\"M23 22h-14c-0.552 0-1-0.448-1-1s0.448-1 1-1h14c0.552 0 1 0.448 1 1s-0.448 1-1 1z\"></path>\n",
       "<path d=\"M23 18h-14c-0.552 0-1-0.448-1-1s0.448-1 1-1h14c0.552 0 1 0.448 1 1s-0.448 1-1 1z\"></path>\n",
       "</symbol>\n",
       "</defs>\n",
       "</svg>\n",
       "<style>/* CSS stylesheet for displaying xarray objects in jupyterlab.\n",
       " *\n",
       " */\n",
       "\n",
       ":root {\n",
       "  --xr-font-color0: var(--jp-content-font-color0, rgba(0, 0, 0, 1));\n",
       "  --xr-font-color2: var(--jp-content-font-color2, rgba(0, 0, 0, 0.54));\n",
       "  --xr-font-color3: var(--jp-content-font-color3, rgba(0, 0, 0, 0.38));\n",
       "  --xr-border-color: var(--jp-border-color2, #e0e0e0);\n",
       "  --xr-disabled-color: var(--jp-layout-color3, #bdbdbd);\n",
       "  --xr-background-color: var(--jp-layout-color0, white);\n",
       "  --xr-background-color-row-even: var(--jp-layout-color1, white);\n",
       "  --xr-background-color-row-odd: var(--jp-layout-color2, #eeeeee);\n",
       "}\n",
       "\n",
       "html[theme=dark],\n",
       "body[data-theme=dark],\n",
       "body.vscode-dark {\n",
       "  --xr-font-color0: rgba(255, 255, 255, 1);\n",
       "  --xr-font-color2: rgba(255, 255, 255, 0.54);\n",
       "  --xr-font-color3: rgba(255, 255, 255, 0.38);\n",
       "  --xr-border-color: #1F1F1F;\n",
       "  --xr-disabled-color: #515151;\n",
       "  --xr-background-color: #111111;\n",
       "  --xr-background-color-row-even: #111111;\n",
       "  --xr-background-color-row-odd: #313131;\n",
       "}\n",
       "\n",
       ".xr-wrap {\n",
       "  display: block !important;\n",
       "  min-width: 300px;\n",
       "  max-width: 700px;\n",
       "}\n",
       "\n",
       ".xr-text-repr-fallback {\n",
       "  /* fallback to plain text repr when CSS is not injected (untrusted notebook) */\n",
       "  display: none;\n",
       "}\n",
       "\n",
       ".xr-header {\n",
       "  padding-top: 6px;\n",
       "  padding-bottom: 6px;\n",
       "  margin-bottom: 4px;\n",
       "  border-bottom: solid 1px var(--xr-border-color);\n",
       "}\n",
       "\n",
       ".xr-header > div,\n",
       ".xr-header > ul {\n",
       "  display: inline;\n",
       "  margin-top: 0;\n",
       "  margin-bottom: 0;\n",
       "}\n",
       "\n",
       ".xr-obj-type,\n",
       ".xr-array-name {\n",
       "  margin-left: 2px;\n",
       "  margin-right: 10px;\n",
       "}\n",
       "\n",
       ".xr-obj-type {\n",
       "  color: var(--xr-font-color2);\n",
       "}\n",
       "\n",
       ".xr-sections {\n",
       "  padding-left: 0 !important;\n",
       "  display: grid;\n",
       "  grid-template-columns: 150px auto auto 1fr 20px 20px;\n",
       "}\n",
       "\n",
       ".xr-section-item {\n",
       "  display: contents;\n",
       "}\n",
       "\n",
       ".xr-section-item input {\n",
       "  display: none;\n",
       "}\n",
       "\n",
       ".xr-section-item input + label {\n",
       "  color: var(--xr-disabled-color);\n",
       "}\n",
       "\n",
       ".xr-section-item input:enabled + label {\n",
       "  cursor: pointer;\n",
       "  color: var(--xr-font-color2);\n",
       "}\n",
       "\n",
       ".xr-section-item input:enabled + label:hover {\n",
       "  color: var(--xr-font-color0);\n",
       "}\n",
       "\n",
       ".xr-section-summary {\n",
       "  grid-column: 1;\n",
       "  color: var(--xr-font-color2);\n",
       "  font-weight: 500;\n",
       "}\n",
       "\n",
       ".xr-section-summary > span {\n",
       "  display: inline-block;\n",
       "  padding-left: 0.5em;\n",
       "}\n",
       "\n",
       ".xr-section-summary-in:disabled + label {\n",
       "  color: var(--xr-font-color2);\n",
       "}\n",
       "\n",
       ".xr-section-summary-in + label:before {\n",
       "  display: inline-block;\n",
       "  content: '►';\n",
       "  font-size: 11px;\n",
       "  width: 15px;\n",
       "  text-align: center;\n",
       "}\n",
       "\n",
       ".xr-section-summary-in:disabled + label:before {\n",
       "  color: var(--xr-disabled-color);\n",
       "}\n",
       "\n",
       ".xr-section-summary-in:checked + label:before {\n",
       "  content: '▼';\n",
       "}\n",
       "\n",
       ".xr-section-summary-in:checked + label > span {\n",
       "  display: none;\n",
       "}\n",
       "\n",
       ".xr-section-summary,\n",
       ".xr-section-inline-details {\n",
       "  padding-top: 4px;\n",
       "  padding-bottom: 4px;\n",
       "}\n",
       "\n",
       ".xr-section-inline-details {\n",
       "  grid-column: 2 / -1;\n",
       "}\n",
       "\n",
       ".xr-section-details {\n",
       "  display: none;\n",
       "  grid-column: 1 / -1;\n",
       "  margin-bottom: 5px;\n",
       "}\n",
       "\n",
       ".xr-section-summary-in:checked ~ .xr-section-details {\n",
       "  display: contents;\n",
       "}\n",
       "\n",
       ".xr-array-wrap {\n",
       "  grid-column: 1 / -1;\n",
       "  display: grid;\n",
       "  grid-template-columns: 20px auto;\n",
       "}\n",
       "\n",
       ".xr-array-wrap > label {\n",
       "  grid-column: 1;\n",
       "  vertical-align: top;\n",
       "}\n",
       "\n",
       ".xr-preview {\n",
       "  color: var(--xr-font-color3);\n",
       "}\n",
       "\n",
       ".xr-array-preview,\n",
       ".xr-array-data {\n",
       "  padding: 0 5px !important;\n",
       "  grid-column: 2;\n",
       "}\n",
       "\n",
       ".xr-array-data,\n",
       ".xr-array-in:checked ~ .xr-array-preview {\n",
       "  display: none;\n",
       "}\n",
       "\n",
       ".xr-array-in:checked ~ .xr-array-data,\n",
       ".xr-array-preview {\n",
       "  display: inline-block;\n",
       "}\n",
       "\n",
       ".xr-dim-list {\n",
       "  display: inline-block !important;\n",
       "  list-style: none;\n",
       "  padding: 0 !important;\n",
       "  margin: 0;\n",
       "}\n",
       "\n",
       ".xr-dim-list li {\n",
       "  display: inline-block;\n",
       "  padding: 0;\n",
       "  margin: 0;\n",
       "}\n",
       "\n",
       ".xr-dim-list:before {\n",
       "  content: '(';\n",
       "}\n",
       "\n",
       ".xr-dim-list:after {\n",
       "  content: ')';\n",
       "}\n",
       "\n",
       ".xr-dim-list li:not(:last-child):after {\n",
       "  content: ',';\n",
       "  padding-right: 5px;\n",
       "}\n",
       "\n",
       ".xr-has-index {\n",
       "  font-weight: bold;\n",
       "}\n",
       "\n",
       ".xr-var-list,\n",
       ".xr-var-item {\n",
       "  display: contents;\n",
       "}\n",
       "\n",
       ".xr-var-item > div,\n",
       ".xr-var-item label,\n",
       ".xr-var-item > .xr-var-name span {\n",
       "  background-color: var(--xr-background-color-row-even);\n",
       "  margin-bottom: 0;\n",
       "}\n",
       "\n",
       ".xr-var-item > .xr-var-name:hover span {\n",
       "  padding-right: 5px;\n",
       "}\n",
       "\n",
       ".xr-var-list > li:nth-child(odd) > div,\n",
       ".xr-var-list > li:nth-child(odd) > label,\n",
       ".xr-var-list > li:nth-child(odd) > .xr-var-name span {\n",
       "  background-color: var(--xr-background-color-row-odd);\n",
       "}\n",
       "\n",
       ".xr-var-name {\n",
       "  grid-column: 1;\n",
       "}\n",
       "\n",
       ".xr-var-dims {\n",
       "  grid-column: 2;\n",
       "}\n",
       "\n",
       ".xr-var-dtype {\n",
       "  grid-column: 3;\n",
       "  text-align: right;\n",
       "  color: var(--xr-font-color2);\n",
       "}\n",
       "\n",
       ".xr-var-preview {\n",
       "  grid-column: 4;\n",
       "}\n",
       "\n",
       ".xr-index-preview {\n",
       "  grid-column: 2 / 5;\n",
       "  color: var(--xr-font-color2);\n",
       "}\n",
       "\n",
       ".xr-var-name,\n",
       ".xr-var-dims,\n",
       ".xr-var-dtype,\n",
       ".xr-preview,\n",
       ".xr-attrs dt {\n",
       "  white-space: nowrap;\n",
       "  overflow: hidden;\n",
       "  text-overflow: ellipsis;\n",
       "  padding-right: 10px;\n",
       "}\n",
       "\n",
       ".xr-var-name:hover,\n",
       ".xr-var-dims:hover,\n",
       ".xr-var-dtype:hover,\n",
       ".xr-attrs dt:hover {\n",
       "  overflow: visible;\n",
       "  width: auto;\n",
       "  z-index: 1;\n",
       "}\n",
       "\n",
       ".xr-var-attrs,\n",
       ".xr-var-data,\n",
       ".xr-index-data {\n",
       "  display: none;\n",
       "  background-color: var(--xr-background-color) !important;\n",
       "  padding-bottom: 5px !important;\n",
       "}\n",
       "\n",
       ".xr-var-attrs-in:checked ~ .xr-var-attrs,\n",
       ".xr-var-data-in:checked ~ .xr-var-data,\n",
       ".xr-index-data-in:checked ~ .xr-index-data {\n",
       "  display: block;\n",
       "}\n",
       "\n",
       ".xr-var-data > table {\n",
       "  float: right;\n",
       "}\n",
       "\n",
       ".xr-var-name span,\n",
       ".xr-var-data,\n",
       ".xr-index-name div,\n",
       ".xr-index-data,\n",
       ".xr-attrs {\n",
       "  padding-left: 25px !important;\n",
       "}\n",
       "\n",
       ".xr-attrs,\n",
       ".xr-var-attrs,\n",
       ".xr-var-data,\n",
       ".xr-index-data {\n",
       "  grid-column: 1 / -1;\n",
       "}\n",
       "\n",
       "dl.xr-attrs {\n",
       "  padding: 0;\n",
       "  margin: 0;\n",
       "  display: grid;\n",
       "  grid-template-columns: 125px auto;\n",
       "}\n",
       "\n",
       ".xr-attrs dt,\n",
       ".xr-attrs dd {\n",
       "  padding: 0;\n",
       "  margin: 0;\n",
       "  float: left;\n",
       "  padding-right: 10px;\n",
       "  width: auto;\n",
       "}\n",
       "\n",
       ".xr-attrs dt {\n",
       "  font-weight: normal;\n",
       "  grid-column: 1;\n",
       "}\n",
       "\n",
       ".xr-attrs dt:hover span {\n",
       "  display: inline-block;\n",
       "  background: var(--xr-background-color);\n",
       "  padding-right: 10px;\n",
       "}\n",
       "\n",
       ".xr-attrs dd {\n",
       "  grid-column: 2;\n",
       "  white-space: pre-wrap;\n",
       "  word-break: break-all;\n",
       "}\n",
       "\n",
       ".xr-icon-database,\n",
       ".xr-icon-file-text2,\n",
       ".xr-no-icon {\n",
       "  display: inline-block;\n",
       "  vertical-align: middle;\n",
       "  width: 1em;\n",
       "  height: 1.5em !important;\n",
       "  stroke-width: 0;\n",
       "  stroke: currentColor;\n",
       "  fill: currentColor;\n",
       "}\n",
       "</style><pre class='xr-text-repr-fallback'>&lt;xarray.Dataset&gt;\n",
       "Dimensions:              (time: 100, mesh2d_nFaces: 20665, mesh2d_nLayers: 47,\n",
       "                          mesh2d_nNodes: 21266, mesh2d_nEdges: 41929,\n",
       "                          mesh2d_nInterfaces: 48)\n",
       "Coordinates:\n",
       "  * time                 (time) datetime64[ns] 2022-07-21 ... 2022-07-25T03:0...\n",
       "    mesh2d_face_x        (mesh2d_nFaces) float64 ...\n",
       "    mesh2d_face_y        (mesh2d_nFaces) float64 ...\n",
       "    mesh2d_flowelem_zcc  (time, mesh2d_nFaces, mesh2d_nLayers) float64 ...\n",
       "    mesh2d_node_x        (mesh2d_nNodes) float64 ...\n",
       "    mesh2d_node_y        (mesh2d_nNodes) float64 ...\n",
       "    mesh2d_edge_x        (mesh2d_nEdges) float64 ...\n",
       "    mesh2d_edge_y        (mesh2d_nEdges) float64 ...\n",
       "  * mesh2d_nEdges        (mesh2d_nEdges) int64 0 1 2 3 ... 41926 41927 41928\n",
       "  * mesh2d_nFaces        (mesh2d_nFaces) int64 0 1 2 3 ... 20662 20663 20664\n",
       "  * mesh2d_nNodes        (mesh2d_nNodes) int64 0 1 2 3 ... 21263 21264 21265\n",
       "Dimensions without coordinates: mesh2d_nLayers, mesh2d_nInterfaces\n",
       "Data variables:\n",
       "    mesh2d_sa1           (time, mesh2d_nFaces, mesh2d_nLayers) float32 ...\n",
       "    mesh2d_node_z        (mesh2d_nNodes) float32 ...\n",
       "    mesh2d_ucx           (time, mesh2d_nFaces, mesh2d_nLayers) float32 ...\n",
       "    mesh2d_ucy           (time, mesh2d_nFaces, mesh2d_nLayers) float32 ...\n",
       "    mesh2d_ucz           (time, mesh2d_nFaces, mesh2d_nLayers) float32 ...\n",
       "    mesh2d_vol1          (time, mesh2d_nFaces, mesh2d_nLayers) float32 ...\n",
       "    mesh2d_vicwwu        (time, mesh2d_nEdges, mesh2d_nInterfaces) float32 ...\n",
       "    mesh2d_tem1          (time, mesh2d_nFaces, mesh2d_nLayers) float32 ...\n",
       "Attributes:\n",
       "    Conventions:    CF-1.9 UGRID-1.0\n",
       "    mesh:           mesh2d\n",
       "    location:       face\n",
       "    cell_methods:   mesh2d_nFaces: mean\n",
       "    cell_measures:  volume: mesh2d_vol1\n",
       "    grid_mapping:   projected_coordinate_system\n",
       "    standard_name:  sea_water_temperature\n",
       "    long_name:      Temperature in flow element\n",
       "    units:          degC</pre><div class='xr-wrap' style='display:none'><div class='xr-header'><div class='xr-obj-type'>xarray.Dataset</div></div><ul class='xr-sections'><li class='xr-section-item'><input id='section-e93e2802-be0a-4198-a49b-aa8d577a7e73' class='xr-section-summary-in' type='checkbox' disabled ><label for='section-e93e2802-be0a-4198-a49b-aa8d577a7e73' class='xr-section-summary'  title='Expand/collapse section'>Dimensions:</label><div class='xr-section-inline-details'><ul class='xr-dim-list'><li><span class='xr-has-index'>time</span>: 100</li><li><span class='xr-has-index'>mesh2d_nFaces</span>: 20665</li><li><span>mesh2d_nLayers</span>: 47</li><li><span class='xr-has-index'>mesh2d_nNodes</span>: 21266</li><li><span class='xr-has-index'>mesh2d_nEdges</span>: 41929</li><li><span>mesh2d_nInterfaces</span>: 48</li></ul></div><div class='xr-section-details'></div></li><li class='xr-section-item'><input id='section-e55fe773-9824-496c-8b4a-0add624776a4' class='xr-section-summary-in' type='checkbox'  checked><label for='section-e55fe773-9824-496c-8b4a-0add624776a4' class='xr-section-summary' >Coordinates: <span>(11)</span></label><div class='xr-section-inline-details'></div><div class='xr-section-details'><ul class='xr-var-list'><li class='xr-var-item'><div class='xr-var-name'><span class='xr-has-index'>time</span></div><div class='xr-var-dims'>(time)</div><div class='xr-var-dtype'>datetime64[ns]</div><div class='xr-var-preview xr-preview'>2022-07-21 ... 2022-07-25T03:00:00</div><input id='attrs-664a1174-b598-4366-9890-9214a29e4266' class='xr-var-attrs-in' type='checkbox' ><label for='attrs-664a1174-b598-4366-9890-9214a29e4266' title='Show/Hide attributes'><svg class='icon xr-icon-file-text2'><use xlink:href='#icon-file-text2'></use></svg></label><input id='data-9db6f165-890b-4f0b-a8c1-8ba2cd865b5b' class='xr-var-data-in' type='checkbox'><label for='data-9db6f165-890b-4f0b-a8c1-8ba2cd865b5b' title='Show/Hide data repr'><svg class='icon xr-icon-database'><use xlink:href='#icon-database'></use></svg></label><div class='xr-var-attrs'><dl class='xr-attrs'><dt><span>standard_name :</span></dt><dd>time</dd></dl></div><div class='xr-var-data'><pre>array([&#x27;2022-07-21T00:00:00.000000000&#x27;, &#x27;2022-07-21T01:00:00.000000000&#x27;,\n",
       "       &#x27;2022-07-21T02:00:00.000000000&#x27;, &#x27;2022-07-21T03:00:00.000000000&#x27;,\n",
       "       &#x27;2022-07-21T04:00:00.000000000&#x27;, &#x27;2022-07-21T05:00:00.000000000&#x27;,\n",
       "       &#x27;2022-07-21T06:00:00.000000000&#x27;, &#x27;2022-07-21T07:00:00.000000000&#x27;,\n",
       "       &#x27;2022-07-21T08:00:00.000000000&#x27;, &#x27;2022-07-21T09:00:00.000000000&#x27;,\n",
       "       &#x27;2022-07-21T10:00:00.000000000&#x27;, &#x27;2022-07-21T11:00:00.000000000&#x27;,\n",
       "       &#x27;2022-07-21T12:00:00.000000000&#x27;, &#x27;2022-07-21T13:00:00.000000000&#x27;,\n",
       "       &#x27;2022-07-21T14:00:00.000000000&#x27;, &#x27;2022-07-21T15:00:00.000000000&#x27;,\n",
       "       &#x27;2022-07-21T16:00:00.000000000&#x27;, &#x27;2022-07-21T17:00:00.000000000&#x27;,\n",
       "       &#x27;2022-07-21T18:00:00.000000000&#x27;, &#x27;2022-07-21T19:00:00.000000000&#x27;,\n",
       "       &#x27;2022-07-21T20:00:00.000000000&#x27;, &#x27;2022-07-21T21:00:00.000000000&#x27;,\n",
       "       &#x27;2022-07-21T22:00:00.000000000&#x27;, &#x27;2022-07-21T23:00:00.000000000&#x27;,\n",
       "       &#x27;2022-07-22T00:00:00.000000000&#x27;, &#x27;2022-07-22T01:00:00.000000000&#x27;,\n",
       "       &#x27;2022-07-22T02:00:00.000000000&#x27;, &#x27;2022-07-22T03:00:00.000000000&#x27;,\n",
       "       &#x27;2022-07-22T04:00:00.000000000&#x27;, &#x27;2022-07-22T05:00:00.000000000&#x27;,\n",
       "       &#x27;2022-07-22T06:00:00.000000000&#x27;, &#x27;2022-07-22T07:00:00.000000000&#x27;,\n",
       "       &#x27;2022-07-22T08:00:00.000000000&#x27;, &#x27;2022-07-22T09:00:00.000000000&#x27;,\n",
       "       &#x27;2022-07-22T10:00:00.000000000&#x27;, &#x27;2022-07-22T11:00:00.000000000&#x27;,\n",
       "       &#x27;2022-07-22T12:00:00.000000000&#x27;, &#x27;2022-07-22T13:00:00.000000000&#x27;,\n",
       "       &#x27;2022-07-22T14:00:00.000000000&#x27;, &#x27;2022-07-22T15:00:00.000000000&#x27;,\n",
       "       &#x27;2022-07-22T16:00:00.000000000&#x27;, &#x27;2022-07-22T17:00:00.000000000&#x27;,\n",
       "       &#x27;2022-07-22T18:00:00.000000000&#x27;, &#x27;2022-07-22T19:00:00.000000000&#x27;,\n",
       "       &#x27;2022-07-22T20:00:00.000000000&#x27;, &#x27;2022-07-22T21:00:00.000000000&#x27;,\n",
       "       &#x27;2022-07-22T22:00:00.000000000&#x27;, &#x27;2022-07-22T23:00:00.000000000&#x27;,\n",
       "       &#x27;2022-07-23T00:00:00.000000000&#x27;, &#x27;2022-07-23T01:00:00.000000000&#x27;,\n",
       "       &#x27;2022-07-23T02:00:00.000000000&#x27;, &#x27;2022-07-23T03:00:00.000000000&#x27;,\n",
       "       &#x27;2022-07-23T04:00:00.000000000&#x27;, &#x27;2022-07-23T05:00:00.000000000&#x27;,\n",
       "       &#x27;2022-07-23T06:00:00.000000000&#x27;, &#x27;2022-07-23T07:00:00.000000000&#x27;,\n",
       "       &#x27;2022-07-23T08:00:00.000000000&#x27;, &#x27;2022-07-23T09:00:00.000000000&#x27;,\n",
       "       &#x27;2022-07-23T10:00:00.000000000&#x27;, &#x27;2022-07-23T11:00:00.000000000&#x27;,\n",
       "       &#x27;2022-07-23T12:00:00.000000000&#x27;, &#x27;2022-07-23T13:00:00.000000000&#x27;,\n",
       "       &#x27;2022-07-23T14:00:00.000000000&#x27;, &#x27;2022-07-23T15:00:00.000000000&#x27;,\n",
       "       &#x27;2022-07-23T16:00:00.000000000&#x27;, &#x27;2022-07-23T17:00:00.000000000&#x27;,\n",
       "       &#x27;2022-07-23T18:00:00.000000000&#x27;, &#x27;2022-07-23T19:00:00.000000000&#x27;,\n",
       "       &#x27;2022-07-23T20:00:00.000000000&#x27;, &#x27;2022-07-23T21:00:00.000000000&#x27;,\n",
       "       &#x27;2022-07-23T22:00:00.000000000&#x27;, &#x27;2022-07-23T23:00:00.000000000&#x27;,\n",
       "       &#x27;2022-07-24T00:00:00.000000000&#x27;, &#x27;2022-07-24T01:00:00.000000000&#x27;,\n",
       "       &#x27;2022-07-24T02:00:00.000000000&#x27;, &#x27;2022-07-24T03:00:00.000000000&#x27;,\n",
       "       &#x27;2022-07-24T04:00:00.000000000&#x27;, &#x27;2022-07-24T05:00:00.000000000&#x27;,\n",
       "       &#x27;2022-07-24T06:00:00.000000000&#x27;, &#x27;2022-07-24T07:00:00.000000000&#x27;,\n",
       "       &#x27;2022-07-24T08:00:00.000000000&#x27;, &#x27;2022-07-24T09:00:00.000000000&#x27;,\n",
       "       &#x27;2022-07-24T10:00:00.000000000&#x27;, &#x27;2022-07-24T11:00:00.000000000&#x27;,\n",
       "       &#x27;2022-07-24T12:00:00.000000000&#x27;, &#x27;2022-07-24T13:00:00.000000000&#x27;,\n",
       "       &#x27;2022-07-24T14:00:00.000000000&#x27;, &#x27;2022-07-24T15:00:00.000000000&#x27;,\n",
       "       &#x27;2022-07-24T16:00:00.000000000&#x27;, &#x27;2022-07-24T17:00:00.000000000&#x27;,\n",
       "       &#x27;2022-07-24T18:00:00.000000000&#x27;, &#x27;2022-07-24T19:00:00.000000000&#x27;,\n",
       "       &#x27;2022-07-24T20:00:00.000000000&#x27;, &#x27;2022-07-24T21:00:00.000000000&#x27;,\n",
       "       &#x27;2022-07-24T22:00:00.000000000&#x27;, &#x27;2022-07-24T23:00:00.000000000&#x27;,\n",
       "       &#x27;2022-07-25T00:00:00.000000000&#x27;, &#x27;2022-07-25T01:00:00.000000000&#x27;,\n",
       "       &#x27;2022-07-25T02:00:00.000000000&#x27;, &#x27;2022-07-25T03:00:00.000000000&#x27;],\n",
       "      dtype=&#x27;datetime64[ns]&#x27;)</pre></div></li><li class='xr-var-item'><div class='xr-var-name'><span>mesh2d_face_x</span></div><div class='xr-var-dims'>(mesh2d_nFaces)</div><div class='xr-var-dtype'>float64</div><div class='xr-var-preview xr-preview'>...</div><input id='attrs-af7f4e84-697c-45db-bfeb-401e6acedea9' class='xr-var-attrs-in' type='checkbox' ><label for='attrs-af7f4e84-697c-45db-bfeb-401e6acedea9' title='Show/Hide attributes'><svg class='icon xr-icon-file-text2'><use xlink:href='#icon-file-text2'></use></svg></label><input id='data-c4968567-91e7-4115-bdf5-ac9d772b56f2' class='xr-var-data-in' type='checkbox'><label for='data-c4968567-91e7-4115-bdf5-ac9d772b56f2' title='Show/Hide data repr'><svg class='icon xr-icon-database'><use xlink:href='#icon-database'></use></svg></label><div class='xr-var-attrs'><dl class='xr-attrs'><dt><span>units :</span></dt><dd>m</dd><dt><span>standard_name :</span></dt><dd>projection_x_coordinate</dd><dt><span>long_name :</span></dt><dd>Characteristic x-coordinate of mesh face</dd><dt><span>bounds :</span></dt><dd>mesh2d_face_x_bnd</dd></dl></div><div class='xr-var-data'><pre>[20665 values with dtype=float64]</pre></div></li><li class='xr-var-item'><div class='xr-var-name'><span>mesh2d_face_y</span></div><div class='xr-var-dims'>(mesh2d_nFaces)</div><div class='xr-var-dtype'>float64</div><div class='xr-var-preview xr-preview'>...</div><input id='attrs-b117ed8d-c9bd-4cb7-8df1-fc834821b14e' class='xr-var-attrs-in' type='checkbox' ><label for='attrs-b117ed8d-c9bd-4cb7-8df1-fc834821b14e' title='Show/Hide attributes'><svg class='icon xr-icon-file-text2'><use xlink:href='#icon-file-text2'></use></svg></label><input id='data-a75958cb-8c3a-41c2-92a9-39b79200b215' class='xr-var-data-in' type='checkbox'><label for='data-a75958cb-8c3a-41c2-92a9-39b79200b215' title='Show/Hide data repr'><svg class='icon xr-icon-database'><use xlink:href='#icon-database'></use></svg></label><div class='xr-var-attrs'><dl class='xr-attrs'><dt><span>units :</span></dt><dd>m</dd><dt><span>standard_name :</span></dt><dd>projection_y_coordinate</dd><dt><span>long_name :</span></dt><dd>Characteristic y-coordinate of mesh face</dd><dt><span>bounds :</span></dt><dd>mesh2d_face_y_bnd</dd></dl></div><div class='xr-var-data'><pre>[20665 values with dtype=float64]</pre></div></li><li class='xr-var-item'><div class='xr-var-name'><span>mesh2d_flowelem_zcc</span></div><div class='xr-var-dims'>(time, mesh2d_nFaces, mesh2d_nLayers)</div><div class='xr-var-dtype'>float64</div><div class='xr-var-preview xr-preview'>...</div><input id='attrs-57e14a59-845c-4310-90be-4ccb346d4996' class='xr-var-attrs-in' type='checkbox' ><label for='attrs-57e14a59-845c-4310-90be-4ccb346d4996' title='Show/Hide attributes'><svg class='icon xr-icon-file-text2'><use xlink:href='#icon-file-text2'></use></svg></label><input id='data-9927b7f6-094e-4716-b525-538e3bdc8b7c' class='xr-var-data-in' type='checkbox'><label for='data-9927b7f6-094e-4716-b525-538e3bdc8b7c' title='Show/Hide data repr'><svg class='icon xr-icon-database'><use xlink:href='#icon-database'></use></svg></label><div class='xr-var-attrs'><dl class='xr-attrs'><dt><span>location :</span></dt><dd>face</dd><dt><span>long_name :</span></dt><dd>Vertical coordinate of layer centres at pressure points</dd><dt><span>mesh :</span></dt><dd>mesh2d</dd><dt><span>standard_name :</span></dt><dd>altitude</dd><dt><span>cell_measures :</span></dt><dd>volume: mesh2d_vol1</dd><dt><span>bounds :</span></dt><dd>mesh2d_flowelem_zcc_bnd</dd><dt><span>cell_methods :</span></dt><dd>mesh2d_nFaces: mean</dd><dt><span>units :</span></dt><dd>m</dd><dt><span>grid_mapping :</span></dt><dd>projected_coordinate_system</dd></dl></div><div class='xr-var-data'><pre>[97125500 values with dtype=float64]</pre></div></li><li class='xr-var-item'><div class='xr-var-name'><span>mesh2d_node_x</span></div><div class='xr-var-dims'>(mesh2d_nNodes)</div><div class='xr-var-dtype'>float64</div><div class='xr-var-preview xr-preview'>...</div><input id='attrs-dbb5bd46-28a1-48dd-93bd-ab9d4c91b917' class='xr-var-attrs-in' type='checkbox' ><label for='attrs-dbb5bd46-28a1-48dd-93bd-ab9d4c91b917' title='Show/Hide attributes'><svg class='icon xr-icon-file-text2'><use xlink:href='#icon-file-text2'></use></svg></label><input id='data-2dad1911-f8dd-4bb5-8724-545e357bea7d' class='xr-var-data-in' type='checkbox'><label for='data-2dad1911-f8dd-4bb5-8724-545e357bea7d' title='Show/Hide data repr'><svg class='icon xr-icon-database'><use xlink:href='#icon-database'></use></svg></label><div class='xr-var-attrs'><dl class='xr-attrs'><dt><span>units :</span></dt><dd>m</dd><dt><span>long_name :</span></dt><dd>x-coordinate of mesh nodes</dd><dt><span>standard_name :</span></dt><dd>longitude</dd></dl></div><div class='xr-var-data'><pre>[21266 values with dtype=float64]</pre></div></li><li class='xr-var-item'><div class='xr-var-name'><span>mesh2d_node_y</span></div><div class='xr-var-dims'>(mesh2d_nNodes)</div><div class='xr-var-dtype'>float64</div><div class='xr-var-preview xr-preview'>...</div><input id='attrs-37539876-8c3f-4b40-9ada-9ec28156c3cc' class='xr-var-attrs-in' type='checkbox' ><label for='attrs-37539876-8c3f-4b40-9ada-9ec28156c3cc' title='Show/Hide attributes'><svg class='icon xr-icon-file-text2'><use xlink:href='#icon-file-text2'></use></svg></label><input id='data-9a68e30d-b9d3-4ae6-92aa-69678c0bddd5' class='xr-var-data-in' type='checkbox'><label for='data-9a68e30d-b9d3-4ae6-92aa-69678c0bddd5' title='Show/Hide data repr'><svg class='icon xr-icon-database'><use xlink:href='#icon-database'></use></svg></label><div class='xr-var-attrs'><dl class='xr-attrs'><dt><span>units :</span></dt><dd>m</dd><dt><span>long_name :</span></dt><dd>y-coordinate of mesh nodes</dd><dt><span>standard_name :</span></dt><dd>latitude</dd></dl></div><div class='xr-var-data'><pre>[21266 values with dtype=float64]</pre></div></li><li class='xr-var-item'><div class='xr-var-name'><span>mesh2d_edge_x</span></div><div class='xr-var-dims'>(mesh2d_nEdges)</div><div class='xr-var-dtype'>float64</div><div class='xr-var-preview xr-preview'>...</div><input id='attrs-07cf2eeb-8506-43b3-b892-e92d9536c831' class='xr-var-attrs-in' type='checkbox' ><label for='attrs-07cf2eeb-8506-43b3-b892-e92d9536c831' title='Show/Hide attributes'><svg class='icon xr-icon-file-text2'><use xlink:href='#icon-file-text2'></use></svg></label><input id='data-66161b05-dff8-41d4-801f-37ec8743e768' class='xr-var-data-in' type='checkbox'><label for='data-66161b05-dff8-41d4-801f-37ec8743e768' title='Show/Hide data repr'><svg class='icon xr-icon-database'><use xlink:href='#icon-database'></use></svg></label><div class='xr-var-attrs'><dl class='xr-attrs'><dt><span>units :</span></dt><dd>m</dd><dt><span>standard_name :</span></dt><dd>projection_x_coordinate</dd><dt><span>long_name :</span></dt><dd>characteristic x-coordinate of the mesh edge (e.g. midpoint)</dd></dl></div><div class='xr-var-data'><pre>[41929 values with dtype=float64]</pre></div></li><li class='xr-var-item'><div class='xr-var-name'><span>mesh2d_edge_y</span></div><div class='xr-var-dims'>(mesh2d_nEdges)</div><div class='xr-var-dtype'>float64</div><div class='xr-var-preview xr-preview'>...</div><input id='attrs-18858021-9abc-4d22-9d19-29d682118ea9' class='xr-var-attrs-in' type='checkbox' ><label for='attrs-18858021-9abc-4d22-9d19-29d682118ea9' title='Show/Hide attributes'><svg class='icon xr-icon-file-text2'><use xlink:href='#icon-file-text2'></use></svg></label><input id='data-1eb028c4-9626-43fc-812f-71a0ac27c5d8' class='xr-var-data-in' type='checkbox'><label for='data-1eb028c4-9626-43fc-812f-71a0ac27c5d8' title='Show/Hide data repr'><svg class='icon xr-icon-database'><use xlink:href='#icon-database'></use></svg></label><div class='xr-var-attrs'><dl class='xr-attrs'><dt><span>units :</span></dt><dd>m</dd><dt><span>standard_name :</span></dt><dd>projection_y_coordinate</dd><dt><span>long_name :</span></dt><dd>characteristic y-coordinate of the mesh edge (e.g. midpoint)</dd></dl></div><div class='xr-var-data'><pre>[41929 values with dtype=float64]</pre></div></li><li class='xr-var-item'><div class='xr-var-name'><span class='xr-has-index'>mesh2d_nEdges</span></div><div class='xr-var-dims'>(mesh2d_nEdges)</div><div class='xr-var-dtype'>int64</div><div class='xr-var-preview xr-preview'>0 1 2 3 ... 41925 41926 41927 41928</div><input id='attrs-b1a642a0-2bf4-47d7-9113-b351bd82905f' class='xr-var-attrs-in' type='checkbox' disabled><label for='attrs-b1a642a0-2bf4-47d7-9113-b351bd82905f' title='Show/Hide attributes'><svg class='icon xr-icon-file-text2'><use xlink:href='#icon-file-text2'></use></svg></label><input id='data-2044b1bc-9c8e-497b-a974-cb98c923ef02' class='xr-var-data-in' type='checkbox'><label for='data-2044b1bc-9c8e-497b-a974-cb98c923ef02' title='Show/Hide data repr'><svg class='icon xr-icon-database'><use xlink:href='#icon-database'></use></svg></label><div class='xr-var-attrs'><dl class='xr-attrs'></dl></div><div class='xr-var-data'><pre>array([    0,     1,     2, ..., 41926, 41927, 41928])</pre></div></li><li class='xr-var-item'><div class='xr-var-name'><span class='xr-has-index'>mesh2d_nFaces</span></div><div class='xr-var-dims'>(mesh2d_nFaces)</div><div class='xr-var-dtype'>int64</div><div class='xr-var-preview xr-preview'>0 1 2 3 ... 20661 20662 20663 20664</div><input id='attrs-5e3a4995-f6b6-4e94-9b5f-9122727ea73d' class='xr-var-attrs-in' type='checkbox' disabled><label for='attrs-5e3a4995-f6b6-4e94-9b5f-9122727ea73d' title='Show/Hide attributes'><svg class='icon xr-icon-file-text2'><use xlink:href='#icon-file-text2'></use></svg></label><input id='data-8f77bd1a-59bb-48ad-bbb6-21349632c743' class='xr-var-data-in' type='checkbox'><label for='data-8f77bd1a-59bb-48ad-bbb6-21349632c743' title='Show/Hide data repr'><svg class='icon xr-icon-database'><use xlink:href='#icon-database'></use></svg></label><div class='xr-var-attrs'><dl class='xr-attrs'></dl></div><div class='xr-var-data'><pre>array([    0,     1,     2, ..., 20662, 20663, 20664])</pre></div></li><li class='xr-var-item'><div class='xr-var-name'><span class='xr-has-index'>mesh2d_nNodes</span></div><div class='xr-var-dims'>(mesh2d_nNodes)</div><div class='xr-var-dtype'>int64</div><div class='xr-var-preview xr-preview'>0 1 2 3 ... 21262 21263 21264 21265</div><input id='attrs-8320c259-3934-46e8-b7b0-0b5127f27304' class='xr-var-attrs-in' type='checkbox' disabled><label for='attrs-8320c259-3934-46e8-b7b0-0b5127f27304' title='Show/Hide attributes'><svg class='icon xr-icon-file-text2'><use xlink:href='#icon-file-text2'></use></svg></label><input id='data-cf72d4a6-f565-4dfd-8623-53b669b876f6' class='xr-var-data-in' type='checkbox'><label for='data-cf72d4a6-f565-4dfd-8623-53b669b876f6' title='Show/Hide data repr'><svg class='icon xr-icon-database'><use xlink:href='#icon-database'></use></svg></label><div class='xr-var-attrs'><dl class='xr-attrs'></dl></div><div class='xr-var-data'><pre>array([    0,     1,     2, ..., 21263, 21264, 21265])</pre></div></li></ul></div></li><li class='xr-section-item'><input id='section-926b53c6-b16e-410f-854a-ecd7f379a51d' class='xr-section-summary-in' type='checkbox'  checked><label for='section-926b53c6-b16e-410f-854a-ecd7f379a51d' class='xr-section-summary' >Data variables: <span>(8)</span></label><div class='xr-section-inline-details'></div><div class='xr-section-details'><ul class='xr-var-list'><li class='xr-var-item'><div class='xr-var-name'><span>mesh2d_sa1</span></div><div class='xr-var-dims'>(time, mesh2d_nFaces, mesh2d_nLayers)</div><div class='xr-var-dtype'>float32</div><div class='xr-var-preview xr-preview'>...</div><input id='attrs-f7815ebb-d24d-4268-b331-ccac19750f39' class='xr-var-attrs-in' type='checkbox' ><label for='attrs-f7815ebb-d24d-4268-b331-ccac19750f39' title='Show/Hide attributes'><svg class='icon xr-icon-file-text2'><use xlink:href='#icon-file-text2'></use></svg></label><input id='data-4df8b556-a15d-46f0-a38f-9225ee0b697a' class='xr-var-data-in' type='checkbox'><label for='data-4df8b556-a15d-46f0-a38f-9225ee0b697a' title='Show/Hide data repr'><svg class='icon xr-icon-database'><use xlink:href='#icon-database'></use></svg></label><div class='xr-var-attrs'><dl class='xr-attrs'><dt><span>location :</span></dt><dd>face</dd><dt><span>long_name :</span></dt><dd>Salinity in flow element</dd><dt><span>mesh :</span></dt><dd>mesh2d</dd><dt><span>standard_name :</span></dt><dd>sea_water_salinity</dd><dt><span>cell_measures :</span></dt><dd>volume: mesh2d_vol1</dd><dt><span>cell_methods :</span></dt><dd>mesh2d_nFaces: mean</dd><dt><span>units :</span></dt><dd>1e-3</dd><dt><span>grid_mapping :</span></dt><dd>projected_coordinate_system</dd></dl></div><div class='xr-var-data'><pre>[97125500 values with dtype=float32]</pre></div></li><li class='xr-var-item'><div class='xr-var-name'><span>mesh2d_node_z</span></div><div class='xr-var-dims'>(mesh2d_nNodes)</div><div class='xr-var-dtype'>float32</div><div class='xr-var-preview xr-preview'>...</div><input id='attrs-bfc4fa41-3ef2-4df9-8ebe-c5fa5e7cff1f' class='xr-var-attrs-in' type='checkbox' ><label for='attrs-bfc4fa41-3ef2-4df9-8ebe-c5fa5e7cff1f' title='Show/Hide attributes'><svg class='icon xr-icon-file-text2'><use xlink:href='#icon-file-text2'></use></svg></label><input id='data-ed97604c-d109-4188-82ac-cdbb6121b9c0' class='xr-var-data-in' type='checkbox'><label for='data-ed97604c-d109-4188-82ac-cdbb6121b9c0' title='Show/Hide data repr'><svg class='icon xr-icon-database'><use xlink:href='#icon-database'></use></svg></label><div class='xr-var-attrs'><dl class='xr-attrs'><dt><span>location :</span></dt><dd>node</dd><dt><span>long_name :</span></dt><dd>z-coordinate of mesh nodes</dd><dt><span>mesh :</span></dt><dd>mesh2d</dd><dt><span>standard_name :</span></dt><dd>altitude</dd><dt><span>units :</span></dt><dd>m</dd><dt><span>grid_mapping :</span></dt><dd>projected_coordinate_system</dd></dl></div><div class='xr-var-data'><pre>[21266 values with dtype=float32]</pre></div></li><li class='xr-var-item'><div class='xr-var-name'><span>mesh2d_ucx</span></div><div class='xr-var-dims'>(time, mesh2d_nFaces, mesh2d_nLayers)</div><div class='xr-var-dtype'>float32</div><div class='xr-var-preview xr-preview'>...</div><input id='attrs-5d071c2a-145f-4801-8753-cd63cdac902d' class='xr-var-attrs-in' type='checkbox' ><label for='attrs-5d071c2a-145f-4801-8753-cd63cdac902d' title='Show/Hide attributes'><svg class='icon xr-icon-file-text2'><use xlink:href='#icon-file-text2'></use></svg></label><input id='data-3e7bd074-8402-44aa-87d7-ee07c0cf1d59' class='xr-var-data-in' type='checkbox'><label for='data-3e7bd074-8402-44aa-87d7-ee07c0cf1d59' title='Show/Hide data repr'><svg class='icon xr-icon-database'><use xlink:href='#icon-database'></use></svg></label><div class='xr-var-attrs'><dl class='xr-attrs'><dt><span>location :</span></dt><dd>face</dd><dt><span>long_name :</span></dt><dd>Flow element center velocity vector, x-component</dd><dt><span>mesh :</span></dt><dd>mesh2d</dd><dt><span>standard_name :</span></dt><dd>sea_water_x_velocity</dd><dt><span>cell_measures :</span></dt><dd>volume: mesh2d_vol1</dd><dt><span>cell_methods :</span></dt><dd>mesh2d_nFaces: mean</dd><dt><span>units :</span></dt><dd>m s-1</dd><dt><span>grid_mapping :</span></dt><dd>projected_coordinate_system</dd></dl></div><div class='xr-var-data'><pre>[97125500 values with dtype=float32]</pre></div></li><li class='xr-var-item'><div class='xr-var-name'><span>mesh2d_ucy</span></div><div class='xr-var-dims'>(time, mesh2d_nFaces, mesh2d_nLayers)</div><div class='xr-var-dtype'>float32</div><div class='xr-var-preview xr-preview'>...</div><input id='attrs-426b2340-1ce0-41eb-8503-7188e3b9e64b' class='xr-var-attrs-in' type='checkbox' ><label for='attrs-426b2340-1ce0-41eb-8503-7188e3b9e64b' title='Show/Hide attributes'><svg class='icon xr-icon-file-text2'><use xlink:href='#icon-file-text2'></use></svg></label><input id='data-85a4d9ca-8b26-4e6c-8995-e681c93f8f8b' class='xr-var-data-in' type='checkbox'><label for='data-85a4d9ca-8b26-4e6c-8995-e681c93f8f8b' title='Show/Hide data repr'><svg class='icon xr-icon-database'><use xlink:href='#icon-database'></use></svg></label><div class='xr-var-attrs'><dl class='xr-attrs'><dt><span>location :</span></dt><dd>face</dd><dt><span>long_name :</span></dt><dd>Flow element center velocity vector, y-component</dd><dt><span>mesh :</span></dt><dd>mesh2d</dd><dt><span>standard_name :</span></dt><dd>sea_water_y_velocity</dd><dt><span>cell_measures :</span></dt><dd>volume: mesh2d_vol1</dd><dt><span>cell_methods :</span></dt><dd>mesh2d_nFaces: mean</dd><dt><span>units :</span></dt><dd>m s-1</dd><dt><span>grid_mapping :</span></dt><dd>projected_coordinate_system</dd></dl></div><div class='xr-var-data'><pre>[97125500 values with dtype=float32]</pre></div></li><li class='xr-var-item'><div class='xr-var-name'><span>mesh2d_ucz</span></div><div class='xr-var-dims'>(time, mesh2d_nFaces, mesh2d_nLayers)</div><div class='xr-var-dtype'>float32</div><div class='xr-var-preview xr-preview'>...</div><input id='attrs-51ad9719-ea8c-48f1-a212-e68c94a9832c' class='xr-var-attrs-in' type='checkbox' ><label for='attrs-51ad9719-ea8c-48f1-a212-e68c94a9832c' title='Show/Hide attributes'><svg class='icon xr-icon-file-text2'><use xlink:href='#icon-file-text2'></use></svg></label><input id='data-405b312f-253b-400f-9cf7-446f1823fc93' class='xr-var-data-in' type='checkbox'><label for='data-405b312f-253b-400f-9cf7-446f1823fc93' title='Show/Hide data repr'><svg class='icon xr-icon-database'><use xlink:href='#icon-database'></use></svg></label><div class='xr-var-attrs'><dl class='xr-attrs'><dt><span>location :</span></dt><dd>face</dd><dt><span>long_name :</span></dt><dd>Flow element center velocity vector, z-component</dd><dt><span>mesh :</span></dt><dd>mesh2d</dd><dt><span>standard_name :</span></dt><dd>upward_sea_water_velocity</dd><dt><span>cell_measures :</span></dt><dd>volume: mesh2d_vol1</dd><dt><span>cell_methods :</span></dt><dd>mesh2d_nFaces: mean</dd><dt><span>units :</span></dt><dd>m s-1</dd><dt><span>grid_mapping :</span></dt><dd>projected_coordinate_system</dd></dl></div><div class='xr-var-data'><pre>[97125500 values with dtype=float32]</pre></div></li><li class='xr-var-item'><div class='xr-var-name'><span>mesh2d_vol1</span></div><div class='xr-var-dims'>(time, mesh2d_nFaces, mesh2d_nLayers)</div><div class='xr-var-dtype'>float32</div><div class='xr-var-preview xr-preview'>...</div><input id='attrs-9bfce332-014c-4347-b1f0-bf9df8327034' class='xr-var-attrs-in' type='checkbox' ><label for='attrs-9bfce332-014c-4347-b1f0-bf9df8327034' title='Show/Hide attributes'><svg class='icon xr-icon-file-text2'><use xlink:href='#icon-file-text2'></use></svg></label><input id='data-e0e9d1ce-d887-45b9-9470-6e027130e6b7' class='xr-var-data-in' type='checkbox'><label for='data-e0e9d1ce-d887-45b9-9470-6e027130e6b7' title='Show/Hide data repr'><svg class='icon xr-icon-database'><use xlink:href='#icon-database'></use></svg></label><div class='xr-var-attrs'><dl class='xr-attrs'><dt><span>location :</span></dt><dd>face</dd><dt><span>long_name :</span></dt><dd>volume of water in grid cell</dd><dt><span>mesh :</span></dt><dd>mesh2d</dd><dt><span>cell_measures :</span></dt><dd>volume: mesh2d_vol1</dd><dt><span>cell_methods :</span></dt><dd>mesh2d_nFaces: mean</dd><dt><span>units :</span></dt><dd>m3</dd><dt><span>grid_mapping :</span></dt><dd>projected_coordinate_system</dd></dl></div><div class='xr-var-data'><pre>[97125500 values with dtype=float32]</pre></div></li><li class='xr-var-item'><div class='xr-var-name'><span>mesh2d_vicwwu</span></div><div class='xr-var-dims'>(time, mesh2d_nEdges, mesh2d_nInterfaces)</div><div class='xr-var-dtype'>float32</div><div class='xr-var-preview xr-preview'>...</div><input id='attrs-b0da7cc1-1bfe-4f98-a1cf-1059c76d76de' class='xr-var-attrs-in' type='checkbox' ><label for='attrs-b0da7cc1-1bfe-4f98-a1cf-1059c76d76de' title='Show/Hide attributes'><svg class='icon xr-icon-file-text2'><use xlink:href='#icon-file-text2'></use></svg></label><input id='data-a0da0480-3cce-4b52-bf48-80c00b49ac9b' class='xr-var-data-in' type='checkbox'><label for='data-a0da0480-3cce-4b52-bf48-80c00b49ac9b' title='Show/Hide data repr'><svg class='icon xr-icon-database'><use xlink:href='#icon-database'></use></svg></label><div class='xr-var-attrs'><dl class='xr-attrs'><dt><span>location :</span></dt><dd>edge</dd><dt><span>long_name :</span></dt><dd>turbulent vertical eddy viscosity</dd><dt><span>mesh :</span></dt><dd>mesh2d</dd><dt><span>standard_name :</span></dt><dd>eddy_viscosity</dd><dt><span>cell_methods :</span></dt><dd>mesh2d_nEdges: mean</dd><dt><span>units :</span></dt><dd>m2 s-1</dd><dt><span>grid_mapping :</span></dt><dd>projected_coordinate_system</dd></dl></div><div class='xr-var-data'><pre>[201259200 values with dtype=float32]</pre></div></li><li class='xr-var-item'><div class='xr-var-name'><span>mesh2d_tem1</span></div><div class='xr-var-dims'>(time, mesh2d_nFaces, mesh2d_nLayers)</div><div class='xr-var-dtype'>float32</div><div class='xr-var-preview xr-preview'>...</div><input id='attrs-6751155e-1504-4a8e-86f6-1b71f5c441b1' class='xr-var-attrs-in' type='checkbox' ><label for='attrs-6751155e-1504-4a8e-86f6-1b71f5c441b1' title='Show/Hide attributes'><svg class='icon xr-icon-file-text2'><use xlink:href='#icon-file-text2'></use></svg></label><input id='data-1ae756e2-973b-460f-a91e-9235c66c3140' class='xr-var-data-in' type='checkbox'><label for='data-1ae756e2-973b-460f-a91e-9235c66c3140' title='Show/Hide data repr'><svg class='icon xr-icon-database'><use xlink:href='#icon-database'></use></svg></label><div class='xr-var-attrs'><dl class='xr-attrs'><dt><span>location :</span></dt><dd>face</dd><dt><span>long_name :</span></dt><dd>Temperature in flow element</dd><dt><span>mesh :</span></dt><dd>mesh2d</dd><dt><span>standard_name :</span></dt><dd>sea_water_temperature</dd><dt><span>cell_measures :</span></dt><dd>volume: mesh2d_vol1</dd><dt><span>cell_methods :</span></dt><dd>mesh2d_nFaces: mean</dd><dt><span>units :</span></dt><dd>degC</dd><dt><span>grid_mapping :</span></dt><dd>projected_coordinate_system</dd></dl></div><div class='xr-var-data'><pre>[97125500 values with dtype=float32]</pre></div></li></ul></div></li><li class='xr-section-item'><input id='section-e7f47a24-2cab-4ddb-b267-e0ba0037e3c3' class='xr-section-summary-in' type='checkbox'  ><label for='section-e7f47a24-2cab-4ddb-b267-e0ba0037e3c3' class='xr-section-summary' >Indexes: <span>(4)</span></label><div class='xr-section-inline-details'></div><div class='xr-section-details'><ul class='xr-var-list'><li class='xr-var-item'><div class='xr-index-name'><div>time</div></div><div class='xr-index-preview'>PandasIndex</div><div></div><input id='index-1a324679-b985-420e-b21a-c9899b5a61a6' class='xr-index-data-in' type='checkbox'/><label for='index-1a324679-b985-420e-b21a-c9899b5a61a6' title='Show/Hide index repr'><svg class='icon xr-icon-database'><use xlink:href='#icon-database'></use></svg></label><div class='xr-index-data'><pre>PandasIndex(DatetimeIndex([&#x27;2022-07-21 00:00:00&#x27;, &#x27;2022-07-21 01:00:00&#x27;,\n",
       "               &#x27;2022-07-21 02:00:00&#x27;, &#x27;2022-07-21 03:00:00&#x27;,\n",
       "               &#x27;2022-07-21 04:00:00&#x27;, &#x27;2022-07-21 05:00:00&#x27;,\n",
       "               &#x27;2022-07-21 06:00:00&#x27;, &#x27;2022-07-21 07:00:00&#x27;,\n",
       "               &#x27;2022-07-21 08:00:00&#x27;, &#x27;2022-07-21 09:00:00&#x27;,\n",
       "               &#x27;2022-07-21 10:00:00&#x27;, &#x27;2022-07-21 11:00:00&#x27;,\n",
       "               &#x27;2022-07-21 12:00:00&#x27;, &#x27;2022-07-21 13:00:00&#x27;,\n",
       "               &#x27;2022-07-21 14:00:00&#x27;, &#x27;2022-07-21 15:00:00&#x27;,\n",
       "               &#x27;2022-07-21 16:00:00&#x27;, &#x27;2022-07-21 17:00:00&#x27;,\n",
       "               &#x27;2022-07-21 18:00:00&#x27;, &#x27;2022-07-21 19:00:00&#x27;,\n",
       "               &#x27;2022-07-21 20:00:00&#x27;, &#x27;2022-07-21 21:00:00&#x27;,\n",
       "               &#x27;2022-07-21 22:00:00&#x27;, &#x27;2022-07-21 23:00:00&#x27;,\n",
       "               &#x27;2022-07-22 00:00:00&#x27;, &#x27;2022-07-22 01:00:00&#x27;,\n",
       "               &#x27;2022-07-22 02:00:00&#x27;, &#x27;2022-07-22 03:00:00&#x27;,\n",
       "               &#x27;2022-07-22 04:00:00&#x27;, &#x27;2022-07-22 05:00:00&#x27;,\n",
       "               &#x27;2022-07-22 06:00:00&#x27;, &#x27;2022-07-22 07:00:00&#x27;,\n",
       "               &#x27;2022-07-22 08:00:00&#x27;, &#x27;2022-07-22 09:00:00&#x27;,\n",
       "               &#x27;2022-07-22 10:00:00&#x27;, &#x27;2022-07-22 11:00:00&#x27;,\n",
       "               &#x27;2022-07-22 12:00:00&#x27;, &#x27;2022-07-22 13:00:00&#x27;,\n",
       "               &#x27;2022-07-22 14:00:00&#x27;, &#x27;2022-07-22 15:00:00&#x27;,\n",
       "               &#x27;2022-07-22 16:00:00&#x27;, &#x27;2022-07-22 17:00:00&#x27;,\n",
       "               &#x27;2022-07-22 18:00:00&#x27;, &#x27;2022-07-22 19:00:00&#x27;,\n",
       "               &#x27;2022-07-22 20:00:00&#x27;, &#x27;2022-07-22 21:00:00&#x27;,\n",
       "               &#x27;2022-07-22 22:00:00&#x27;, &#x27;2022-07-22 23:00:00&#x27;,\n",
       "               &#x27;2022-07-23 00:00:00&#x27;, &#x27;2022-07-23 01:00:00&#x27;,\n",
       "               &#x27;2022-07-23 02:00:00&#x27;, &#x27;2022-07-23 03:00:00&#x27;,\n",
       "               &#x27;2022-07-23 04:00:00&#x27;, &#x27;2022-07-23 05:00:00&#x27;,\n",
       "               &#x27;2022-07-23 06:00:00&#x27;, &#x27;2022-07-23 07:00:00&#x27;,\n",
       "               &#x27;2022-07-23 08:00:00&#x27;, &#x27;2022-07-23 09:00:00&#x27;,\n",
       "               &#x27;2022-07-23 10:00:00&#x27;, &#x27;2022-07-23 11:00:00&#x27;,\n",
       "               &#x27;2022-07-23 12:00:00&#x27;, &#x27;2022-07-23 13:00:00&#x27;,\n",
       "               &#x27;2022-07-23 14:00:00&#x27;, &#x27;2022-07-23 15:00:00&#x27;,\n",
       "               &#x27;2022-07-23 16:00:00&#x27;, &#x27;2022-07-23 17:00:00&#x27;,\n",
       "               &#x27;2022-07-23 18:00:00&#x27;, &#x27;2022-07-23 19:00:00&#x27;,\n",
       "               &#x27;2022-07-23 20:00:00&#x27;, &#x27;2022-07-23 21:00:00&#x27;,\n",
       "               &#x27;2022-07-23 22:00:00&#x27;, &#x27;2022-07-23 23:00:00&#x27;,\n",
       "               &#x27;2022-07-24 00:00:00&#x27;, &#x27;2022-07-24 01:00:00&#x27;,\n",
       "               &#x27;2022-07-24 02:00:00&#x27;, &#x27;2022-07-24 03:00:00&#x27;,\n",
       "               &#x27;2022-07-24 04:00:00&#x27;, &#x27;2022-07-24 05:00:00&#x27;,\n",
       "               &#x27;2022-07-24 06:00:00&#x27;, &#x27;2022-07-24 07:00:00&#x27;,\n",
       "               &#x27;2022-07-24 08:00:00&#x27;, &#x27;2022-07-24 09:00:00&#x27;,\n",
       "               &#x27;2022-07-24 10:00:00&#x27;, &#x27;2022-07-24 11:00:00&#x27;,\n",
       "               &#x27;2022-07-24 12:00:00&#x27;, &#x27;2022-07-24 13:00:00&#x27;,\n",
       "               &#x27;2022-07-24 14:00:00&#x27;, &#x27;2022-07-24 15:00:00&#x27;,\n",
       "               &#x27;2022-07-24 16:00:00&#x27;, &#x27;2022-07-24 17:00:00&#x27;,\n",
       "               &#x27;2022-07-24 18:00:00&#x27;, &#x27;2022-07-24 19:00:00&#x27;,\n",
       "               &#x27;2022-07-24 20:00:00&#x27;, &#x27;2022-07-24 21:00:00&#x27;,\n",
       "               &#x27;2022-07-24 22:00:00&#x27;, &#x27;2022-07-24 23:00:00&#x27;,\n",
       "               &#x27;2022-07-25 00:00:00&#x27;, &#x27;2022-07-25 01:00:00&#x27;,\n",
       "               &#x27;2022-07-25 02:00:00&#x27;, &#x27;2022-07-25 03:00:00&#x27;],\n",
       "              dtype=&#x27;datetime64[ns]&#x27;, name=&#x27;time&#x27;, freq=None))</pre></div></li><li class='xr-var-item'><div class='xr-index-name'><div>mesh2d_nEdges</div></div><div class='xr-index-preview'>PandasIndex</div><div></div><input id='index-b543c9ba-b062-43a0-82df-2e7031b8c4a6' class='xr-index-data-in' type='checkbox'/><label for='index-b543c9ba-b062-43a0-82df-2e7031b8c4a6' title='Show/Hide index repr'><svg class='icon xr-icon-database'><use xlink:href='#icon-database'></use></svg></label><div class='xr-index-data'><pre>PandasIndex(RangeIndex(start=0, stop=41929, step=1, name=&#x27;mesh2d_nEdges&#x27;))</pre></div></li><li class='xr-var-item'><div class='xr-index-name'><div>mesh2d_nFaces</div></div><div class='xr-index-preview'>PandasIndex</div><div></div><input id='index-897b9d0a-b96c-4979-a706-ce033b55c8ac' class='xr-index-data-in' type='checkbox'/><label for='index-897b9d0a-b96c-4979-a706-ce033b55c8ac' title='Show/Hide index repr'><svg class='icon xr-icon-database'><use xlink:href='#icon-database'></use></svg></label><div class='xr-index-data'><pre>PandasIndex(RangeIndex(start=0, stop=20665, step=1, name=&#x27;mesh2d_nFaces&#x27;))</pre></div></li><li class='xr-var-item'><div class='xr-index-name'><div>mesh2d_nNodes</div></div><div class='xr-index-preview'>PandasIndex</div><div></div><input id='index-c7f0ba1f-eeb5-4916-a067-72ce1c135cc0' class='xr-index-data-in' type='checkbox'/><label for='index-c7f0ba1f-eeb5-4916-a067-72ce1c135cc0' title='Show/Hide index repr'><svg class='icon xr-icon-database'><use xlink:href='#icon-database'></use></svg></label><div class='xr-index-data'><pre>PandasIndex(RangeIndex(start=0, stop=21266, step=1, name=&#x27;mesh2d_nNodes&#x27;))</pre></div></li></ul></div></li><li class='xr-section-item'><input id='section-42d92566-e6b6-4782-b12f-d19fa90abc63' class='xr-section-summary-in' type='checkbox'  checked><label for='section-42d92566-e6b6-4782-b12f-d19fa90abc63' class='xr-section-summary' >Attributes: <span>(9)</span></label><div class='xr-section-inline-details'></div><div class='xr-section-details'><dl class='xr-attrs'><dt><span>Conventions :</span></dt><dd>CF-1.9 UGRID-1.0</dd><dt><span>mesh :</span></dt><dd>mesh2d</dd><dt><span>location :</span></dt><dd>face</dd><dt><span>cell_methods :</span></dt><dd>mesh2d_nFaces: mean</dd><dt><span>cell_measures :</span></dt><dd>volume: mesh2d_vol1</dd><dt><span>grid_mapping :</span></dt><dd>projected_coordinate_system</dd><dt><span>standard_name :</span></dt><dd>sea_water_temperature</dd><dt><span>long_name :</span></dt><dd>Temperature in flow element</dd><dt><span>units :</span></dt><dd>degC</dd></dl></div></li></ul></div></div>"
      ],
      "text/plain": [
       "<xarray.Dataset>\n",
       "Dimensions:              (time: 100, mesh2d_nFaces: 20665, mesh2d_nLayers: 47,\n",
       "                          mesh2d_nNodes: 21266, mesh2d_nEdges: 41929,\n",
       "                          mesh2d_nInterfaces: 48)\n",
       "Coordinates:\n",
       "  * time                 (time) datetime64[ns] 2022-07-21 ... 2022-07-25T03:0...\n",
       "    mesh2d_face_x        (mesh2d_nFaces) float64 ...\n",
       "    mesh2d_face_y        (mesh2d_nFaces) float64 ...\n",
       "    mesh2d_flowelem_zcc  (time, mesh2d_nFaces, mesh2d_nLayers) float64 ...\n",
       "    mesh2d_node_x        (mesh2d_nNodes) float64 ...\n",
       "    mesh2d_node_y        (mesh2d_nNodes) float64 ...\n",
       "    mesh2d_edge_x        (mesh2d_nEdges) float64 ...\n",
       "    mesh2d_edge_y        (mesh2d_nEdges) float64 ...\n",
       "  * mesh2d_nEdges        (mesh2d_nEdges) int64 0 1 2 3 ... 41926 41927 41928\n",
       "  * mesh2d_nFaces        (mesh2d_nFaces) int64 0 1 2 3 ... 20662 20663 20664\n",
       "  * mesh2d_nNodes        (mesh2d_nNodes) int64 0 1 2 3 ... 21263 21264 21265\n",
       "Dimensions without coordinates: mesh2d_nLayers, mesh2d_nInterfaces\n",
       "Data variables:\n",
       "    mesh2d_sa1           (time, mesh2d_nFaces, mesh2d_nLayers) float32 ...\n",
       "    mesh2d_node_z        (mesh2d_nNodes) float32 ...\n",
       "    mesh2d_ucx           (time, mesh2d_nFaces, mesh2d_nLayers) float32 ...\n",
       "    mesh2d_ucy           (time, mesh2d_nFaces, mesh2d_nLayers) float32 ...\n",
       "    mesh2d_ucz           (time, mesh2d_nFaces, mesh2d_nLayers) float32 ...\n",
       "    mesh2d_vol1          (time, mesh2d_nFaces, mesh2d_nLayers) float32 ...\n",
       "    mesh2d_vicwwu        (time, mesh2d_nEdges, mesh2d_nInterfaces) float32 ...\n",
       "    mesh2d_tem1          (time, mesh2d_nFaces, mesh2d_nLayers) float32 ...\n",
       "Attributes:\n",
       "    Conventions:    CF-1.9 UGRID-1.0\n",
       "    mesh:           mesh2d\n",
       "    location:       face\n",
       "    cell_methods:   mesh2d_nFaces: mean\n",
       "    cell_measures:  volume: mesh2d_vol1\n",
       "    grid_mapping:   projected_coordinate_system\n",
       "    standard_name:  sea_water_temperature\n",
       "    long_name:      Temperature in flow element\n",
       "    units:          degC"
      ]
     },
     "execution_count": 79,
     "metadata": {},
     "output_type": "execute_result"
    }
   ],
   "source": [
    "testing_load2"
   ]
  },
  {
   "cell_type": "code",
   "execution_count": null,
   "metadata": {},
   "outputs": [],
   "source": []
  }
 ],
 "metadata": {
  "kernelspec": {
   "display_name": "Python 3",
   "language": "python",
   "name": "python3"
  },
  "language_info": {
   "codemirror_mode": {
    "name": "ipython",
    "version": 3
   },
   "file_extension": ".py",
   "mimetype": "text/x-python",
   "name": "python",
   "nbconvert_exporter": "python",
   "pygments_lexer": "ipython3",
   "version": "3.9.16"
  }
 },
 "nbformat": 4,
 "nbformat_minor": 2
}
