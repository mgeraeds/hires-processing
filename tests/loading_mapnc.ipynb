{
 "cells": [
  {
   "cell_type": "markdown",
   "metadata": {},
   "source": [
    "# Initialize packages"
   ]
  },
  {
   "cell_type": "code",
   "execution_count": 1,
   "metadata": {
    "metadata": {}
   },
   "outputs": [],
   "source": [
    "import numpy as np\n",
    "import xarray as xr\n",
    "import dfm_tools as dfmt"
   ]
  },
  {
   "cell_type": "code",
   "execution_count": null,
   "metadata": {},
   "outputs": [],
   "source": [
    "from collections import ChainMap"
   ]
  },
  {
   "cell_type": "code",
   "execution_count": 2,
   "metadata": {
    "metadata": {}
   },
   "outputs": [],
   "source": [
    "import glob\n",
    "import warnings"
   ]
  },
  {
   "cell_type": "code",
   "execution_count": 3,
   "metadata": {
    "metadata": {}
   },
   "outputs": [],
   "source": [
    "import dask\n",
    "import os\n",
    "import pandas as pd"
   ]
  },
  {
   "cell_type": "code",
   "execution_count": 4,
   "metadata": {
    "metadata": {}
   },
   "outputs": [],
   "source": [
    "from dask_jobqueue import SLURMCluster\n",
    "from dask.distributed import Client"
   ]
  },
  {
   "cell_type": "markdown",
   "metadata": {},
   "source": [
    "# Initialize Dask cluster"
   ]
  },
  {
   "cell_type": "code",
   "execution_count": 5,
   "metadata": {
    "metadata": {}
   },
   "outputs": [],
   "source": [
    "n_cores = 16\n",
    "n_processes = 4\n",
    "mem_lim = str(336)+'GB' #taking the entire node #str(int(np.floor(336/(n_cores*n_processes))))+'GB' # 768 GB of memory for one entire memory node on DelftBlue"
   ]
  },
  {
   "cell_type": "code",
   "execution_count": 6,
   "metadata": {
    "metadata": {}
   },
   "outputs": [
    {
     "data": {
      "text/plain": [
       "'336GB'"
      ]
     },
     "execution_count": 6,
     "metadata": {},
     "output_type": "execute_result"
    }
   ],
   "source": [
    "mem_lim"
   ]
  },
  {
   "cell_type": "code",
   "execution_count": 7,
   "metadata": {
    "metadata": {}
   },
   "outputs": [],
   "source": [
    "cluster = SLURMCluster(name='dask-cluster',\n",
    "                       cores=n_cores,\n",
    "                       memory=mem_lim,\n",
    "                       processes=n_processes,\n",
    "                       interface='ib0',\n",
    "                       queue='genoa',\n",
    "                       walltime='04:00:00',\n",
    "                       asynchronous=0)"
   ]
  },
  {
   "cell_type": "code",
   "execution_count": 8,
   "metadata": {
    "metadata": {}
   },
   "outputs": [
    {
     "name": "stdout",
     "output_type": "stream",
     "text": [
      "#!/usr/bin/env bash\n",
      "\n",
      "#SBATCH -J dask-worker\n",
      "#SBATCH -p genoa\n",
      "#SBATCH -n 1\n",
      "#SBATCH --cpus-per-task=16\n",
      "#SBATCH --mem=313G\n",
      "#SBATCH -t 04:00:00\n",
      "\n",
      "/home/mgeraeds/.conda/envs/dfm_proc_env/bin/python -m distributed.cli.dask_worker tcp://172.22.63.190:37687 --name dummy-name --nthreads 4 --memory-limit 78.23GiB --nworkers 4 --nanny --death-timeout 60 --interface ib0\n",
      "\n"
     ]
    }
   ],
   "source": [
    "print(cluster.job_script())"
   ]
  },
  {
   "cell_type": "code",
   "execution_count": 9,
   "metadata": {
    "metadata": {}
   },
   "outputs": [],
   "source": [
    "cluster.scale(1)"
   ]
  },
  {
   "cell_type": "code",
   "execution_count": 10,
   "metadata": {
    "metadata": {}
   },
   "outputs": [],
   "source": [
    "client = Client(cluster)"
   ]
  },
  {
   "cell_type": "code",
   "execution_count": 11,
   "metadata": {
    "metadata": {}
   },
   "outputs": [
    {
     "data": {
      "text/html": [
       "<div>\n",
       "    <div style=\"width: 24px; height: 24px; background-color: #e1e1e1; border: 3px solid #9D9D9D; border-radius: 5px; position: absolute;\"> </div>\n",
       "    <div style=\"margin-left: 48px;\">\n",
       "        <h3 style=\"margin-bottom: 0px;\">Client</h3>\n",
       "        <p style=\"color: #9D9D9D; margin-bottom: 0px;\">Client-39b795e2-07bd-11ef-8183-00001029fe80</p>\n",
       "        <table style=\"width: 100%; text-align: left;\">\n",
       "\n",
       "        <tr>\n",
       "        \n",
       "            <td style=\"text-align: left;\"><strong>Connection method:</strong> Cluster object</td>\n",
       "            <td style=\"text-align: left;\"><strong>Cluster type:</strong> dask_jobqueue.SLURMCluster</td>\n",
       "        \n",
       "        </tr>\n",
       "\n",
       "        \n",
       "            <tr>\n",
       "                <td style=\"text-align: left;\">\n",
       "                    <strong>Dashboard: </strong> <a href=\"http://172.22.63.190:8787/status\" target=\"_blank\">http://172.22.63.190:8787/status</a>\n",
       "                </td>\n",
       "                <td style=\"text-align: left;\"></td>\n",
       "            </tr>\n",
       "        \n",
       "\n",
       "        </table>\n",
       "\n",
       "        \n",
       "\n",
       "        \n",
       "            <details>\n",
       "            <summary style=\"margin-bottom: 20px;\"><h3 style=\"display: inline;\">Cluster Info</h3></summary>\n",
       "            <div class=\"jp-RenderedHTMLCommon jp-RenderedHTML jp-mod-trusted jp-OutputArea-output\">\n",
       "    <div style=\"width: 24px; height: 24px; background-color: #e1e1e1; border: 3px solid #9D9D9D; border-radius: 5px; position: absolute;\">\n",
       "    </div>\n",
       "    <div style=\"margin-left: 48px;\">\n",
       "        <h3 style=\"margin-bottom: 0px; margin-top: 0px;\">SLURMCluster</h3>\n",
       "        <p style=\"color: #9D9D9D; margin-bottom: 0px;\">dask-cluster</p>\n",
       "        <table style=\"width: 100%; text-align: left;\">\n",
       "            <tr>\n",
       "                <td style=\"text-align: left;\">\n",
       "                    <strong>Dashboard:</strong> <a href=\"http://172.22.63.190:8787/status\" target=\"_blank\">http://172.22.63.190:8787/status</a>\n",
       "                </td>\n",
       "                <td style=\"text-align: left;\">\n",
       "                    <strong>Workers:</strong> 0\n",
       "                </td>\n",
       "            </tr>\n",
       "            <tr>\n",
       "                <td style=\"text-align: left;\">\n",
       "                    <strong>Total threads:</strong> 0\n",
       "                </td>\n",
       "                <td style=\"text-align: left;\">\n",
       "                    <strong>Total memory:</strong> 0 B\n",
       "                </td>\n",
       "            </tr>\n",
       "            \n",
       "        </table>\n",
       "\n",
       "        <details>\n",
       "            <summary style=\"margin-bottom: 20px;\">\n",
       "                <h3 style=\"display: inline;\">Scheduler Info</h3>\n",
       "            </summary>\n",
       "\n",
       "            <div style=\"\">\n",
       "    <div>\n",
       "        <div style=\"width: 24px; height: 24px; background-color: #FFF7E5; border: 3px solid #FF6132; border-radius: 5px; position: absolute;\"> </div>\n",
       "        <div style=\"margin-left: 48px;\">\n",
       "            <h3 style=\"margin-bottom: 0px;\">Scheduler</h3>\n",
       "            <p style=\"color: #9D9D9D; margin-bottom: 0px;\">Scheduler-f65e03a4-fe79-429e-a293-9f3351cc8555</p>\n",
       "            <table style=\"width: 100%; text-align: left;\">\n",
       "                <tr>\n",
       "                    <td style=\"text-align: left;\">\n",
       "                        <strong>Comm:</strong> tcp://172.22.63.190:37687\n",
       "                    </td>\n",
       "                    <td style=\"text-align: left;\">\n",
       "                        <strong>Workers:</strong> 0\n",
       "                    </td>\n",
       "                </tr>\n",
       "                <tr>\n",
       "                    <td style=\"text-align: left;\">\n",
       "                        <strong>Dashboard:</strong> <a href=\"http://172.22.63.190:8787/status\" target=\"_blank\">http://172.22.63.190:8787/status</a>\n",
       "                    </td>\n",
       "                    <td style=\"text-align: left;\">\n",
       "                        <strong>Total threads:</strong> 0\n",
       "                    </td>\n",
       "                </tr>\n",
       "                <tr>\n",
       "                    <td style=\"text-align: left;\">\n",
       "                        <strong>Started:</strong> Just now\n",
       "                    </td>\n",
       "                    <td style=\"text-align: left;\">\n",
       "                        <strong>Total memory:</strong> 0 B\n",
       "                    </td>\n",
       "                </tr>\n",
       "            </table>\n",
       "        </div>\n",
       "    </div>\n",
       "\n",
       "    <details style=\"margin-left: 48px;\">\n",
       "        <summary style=\"margin-bottom: 20px;\">\n",
       "            <h3 style=\"display: inline;\">Workers</h3>\n",
       "        </summary>\n",
       "\n",
       "        \n",
       "\n",
       "    </details>\n",
       "</div>\n",
       "\n",
       "        </details>\n",
       "    </div>\n",
       "</div>\n",
       "            </details>\n",
       "        \n",
       "\n",
       "    </div>\n",
       "</div>"
      ],
      "text/plain": [
       "<Client: 'tcp://172.22.63.190:37687' processes=0 threads=0, memory=0 B>"
      ]
     },
     "execution_count": 11,
     "metadata": {},
     "output_type": "execute_result"
    }
   ],
   "source": [
    "client"
   ]
  },
  {
   "cell_type": "code",
   "execution_count": 13,
   "metadata": {
    "metadata": {}
   },
   "outputs": [
    {
     "data": {
      "text/plain": [
       "'http://172.22.63.190:8787/status'"
      ]
     },
     "execution_count": 13,
     "metadata": {},
     "output_type": "execute_result"
    }
   ],
   "source": [
    "client.dashboard_link"
   ]
  },
  {
   "cell_type": "markdown",
   "metadata": {},
   "source": [
    "# Load large (complete) dataset"
   ]
  },
  {
   "cell_type": "code",
   "execution_count": 14,
   "metadata": {
    "metadata": {}
   },
   "outputs": [],
   "source": [
    "input_regex = r'/projects/0/einf1300/saltis-wp3-1/C_Work/00_RMM3d_2022_simulations/computations/B02_2022_jul21-aug7/B02_2022_jul21-aug7_sm/RMM_dflowfm_2022_jul21_aug7_sm_000*_map.nc'"
   ]
  },
  {
   "cell_type": "markdown",
   "metadata": {},
   "source": [
    "Check if any of the input files are corrupted."
   ]
  },
  {
   "cell_type": "code",
   "execution_count": 15,
   "metadata": {
    "metadata": {}
   },
   "outputs": [],
   "source": [
    "## 1. Input tests\n",
    "# 1.x. Loop through all of the files and write when there is something wrong with the file\n",
    "file_list = glob.glob(input_regex)\n",
    "\n",
    "# 1.x Make a list for corrupted files\n",
    "corrupted = []\n",
    "\n",
    "for file in file_list:\n",
    "\n",
    "    file_name = file.split('/')[-1]\n",
    "    \n",
    "    try:\n",
    "        test = xr.open_dataset(file)\n",
    "    except:\n",
    "        warnings.warn(f'The file {file_name} seems to be corrupted. Check your inputs.', UserWarning)\n",
    "        corrupted.append(file)"
   ]
  },
  {
   "cell_type": "markdown",
   "metadata": {},
   "source": [
    "If any of the files are corrupted, take them out of the file list to be loaded."
   ]
  },
  {
   "cell_type": "code",
   "execution_count": 16,
   "metadata": {
    "metadata": {}
   },
   "outputs": [],
   "source": [
    "# I.x Check if there are any corrupted files in the listed files\n",
    "if len(corrupted) > 0:\n",
    "    print('There are corrupted files. These will be taken out of the file list for the next tests.')\n",
    "    \n",
    "# I.x Get the entire input list and remove the corrupted files\n",
    "input_files = [f for f in glob.glob(input_regex) if not f in corrupted]"
   ]
  },
  {
   "cell_type": "markdown",
   "metadata": {},
   "source": [
    "Append another random partition for testing purposes."
   ]
  },
  {
   "cell_type": "code",
   "execution_count": 17,
   "metadata": {
    "metadata": {}
   },
   "outputs": [],
   "source": [
    "input_files.append('/projects/0/einf1300/saltis-wp3-1/C_Work/00_RMM3d_2022_simulations/computations/B02_2022_jul21-aug7/B02_2022_jul21-aug7_sm/RMM_dflowfm_2022_jul21_aug7_sm_0122_map.nc')"
   ]
  },
  {
   "cell_type": "markdown",
   "metadata": {},
   "source": [
    "Load the data."
   ]
  },
  {
   "cell_type": "code",
   "execution_count": 18,
   "metadata": {
    "metadata": {}
   },
   "outputs": [
    {
     "name": "stdout",
     "output_type": "stream",
     "text": [
      ">> xu.open_dataset() with 11 partition(s): 1 "
     ]
    },
    {
     "name": "stderr",
     "output_type": "stream",
     "text": [
      "/home/mgeraeds/.conda/envs/dfm_proc_env/lib/python3.9/site-packages/xarray/core/dataset.py:278: UserWarning: The specified chunks separate the stored chunks along dimension \"time\" starting at index 1. This could degrade performance. Instead, consider rechunking after loading.\n",
      "  warnings.warn(\n"
     ]
    },
    {
     "name": "stdout",
     "output_type": "stream",
     "text": [
      "2 "
     ]
    },
    {
     "name": "stderr",
     "output_type": "stream",
     "text": [
      "/home/mgeraeds/.conda/envs/dfm_proc_env/lib/python3.9/site-packages/xarray/core/dataset.py:278: UserWarning: The specified chunks separate the stored chunks along dimension \"time\" starting at index 1. This could degrade performance. Instead, consider rechunking after loading.\n",
      "  warnings.warn(\n"
     ]
    },
    {
     "name": "stdout",
     "output_type": "stream",
     "text": [
      "3 "
     ]
    },
    {
     "name": "stderr",
     "output_type": "stream",
     "text": [
      "/home/mgeraeds/.conda/envs/dfm_proc_env/lib/python3.9/site-packages/xarray/core/dataset.py:278: UserWarning: The specified chunks separate the stored chunks along dimension \"time\" starting at index 1. This could degrade performance. Instead, consider rechunking after loading.\n",
      "  warnings.warn(\n"
     ]
    },
    {
     "name": "stdout",
     "output_type": "stream",
     "text": [
      "4 "
     ]
    },
    {
     "name": "stderr",
     "output_type": "stream",
     "text": [
      "/home/mgeraeds/.conda/envs/dfm_proc_env/lib/python3.9/site-packages/xarray/core/dataset.py:278: UserWarning: The specified chunks separate the stored chunks along dimension \"time\" starting at index 1. This could degrade performance. Instead, consider rechunking after loading.\n",
      "  warnings.warn(\n"
     ]
    },
    {
     "name": "stdout",
     "output_type": "stream",
     "text": [
      "5 "
     ]
    },
    {
     "name": "stderr",
     "output_type": "stream",
     "text": [
      "/home/mgeraeds/.conda/envs/dfm_proc_env/lib/python3.9/site-packages/xarray/core/dataset.py:278: UserWarning: The specified chunks separate the stored chunks along dimension \"time\" starting at index 1. This could degrade performance. Instead, consider rechunking after loading.\n",
      "  warnings.warn(\n"
     ]
    },
    {
     "name": "stdout",
     "output_type": "stream",
     "text": [
      "6 "
     ]
    },
    {
     "name": "stderr",
     "output_type": "stream",
     "text": [
      "/home/mgeraeds/.conda/envs/dfm_proc_env/lib/python3.9/site-packages/xarray/core/dataset.py:278: UserWarning: The specified chunks separate the stored chunks along dimension \"time\" starting at index 1. This could degrade performance. Instead, consider rechunking after loading.\n",
      "  warnings.warn(\n"
     ]
    },
    {
     "name": "stdout",
     "output_type": "stream",
     "text": [
      "7 "
     ]
    },
    {
     "name": "stderr",
     "output_type": "stream",
     "text": [
      "/home/mgeraeds/.conda/envs/dfm_proc_env/lib/python3.9/site-packages/xarray/core/dataset.py:278: UserWarning: The specified chunks separate the stored chunks along dimension \"time\" starting at index 1. This could degrade performance. Instead, consider rechunking after loading.\n",
      "  warnings.warn(\n"
     ]
    },
    {
     "name": "stdout",
     "output_type": "stream",
     "text": [
      "8 "
     ]
    },
    {
     "name": "stderr",
     "output_type": "stream",
     "text": [
      "/home/mgeraeds/.conda/envs/dfm_proc_env/lib/python3.9/site-packages/xarray/core/dataset.py:278: UserWarning: The specified chunks separate the stored chunks along dimension \"time\" starting at index 1. This could degrade performance. Instead, consider rechunking after loading.\n",
      "  warnings.warn(\n"
     ]
    },
    {
     "name": "stdout",
     "output_type": "stream",
     "text": [
      "9 "
     ]
    },
    {
     "name": "stderr",
     "output_type": "stream",
     "text": [
      "/home/mgeraeds/.conda/envs/dfm_proc_env/lib/python3.9/site-packages/xarray/core/dataset.py:278: UserWarning: The specified chunks separate the stored chunks along dimension \"time\" starting at index 1. This could degrade performance. Instead, consider rechunking after loading.\n",
      "  warnings.warn(\n"
     ]
    },
    {
     "name": "stdout",
     "output_type": "stream",
     "text": [
      "10 "
     ]
    },
    {
     "name": "stderr",
     "output_type": "stream",
     "text": [
      "/home/mgeraeds/.conda/envs/dfm_proc_env/lib/python3.9/site-packages/xarray/core/dataset.py:278: UserWarning: The specified chunks separate the stored chunks along dimension \"time\" starting at index 1. This could degrade performance. Instead, consider rechunking after loading.\n",
      "  warnings.warn(\n"
     ]
    },
    {
     "name": "stdout",
     "output_type": "stream",
     "text": [
      "11 "
     ]
    },
    {
     "name": "stderr",
     "output_type": "stream",
     "text": [
      "/home/mgeraeds/.conda/envs/dfm_proc_env/lib/python3.9/site-packages/xarray/core/dataset.py:278: UserWarning: The specified chunks separate the stored chunks along dimension \"time\" starting at index 1. This could degrade performance. Instead, consider rechunking after loading.\n",
      "  warnings.warn(\n"
     ]
    },
    {
     "name": "stdout",
     "output_type": "stream",
     "text": [
      ": 15.95 sec\n",
      ">> xu.merge_partitions() with 11 partition(s): 0.84 sec\n",
      ">> some variables dropped with merging of partitions: ['mesh2d_face_x_bnd', 'mesh2d_face_y_bnd']\n",
      ">> dfmt.open_partitioned_dataset() total: 16.79 sec\n"
     ]
    }
   ],
   "source": [
    "data_xr = dfmt.open_partitioned_dataset(input_files, chunks={'time':1})"
   ]
  },
  {
   "cell_type": "markdown",
   "metadata": {},
   "source": [
    "Determine the variables to keep for the next computation and define `ds`."
   ]
  },
  {
   "cell_type": "code",
   "execution_count": 19,
   "metadata": {
    "metadata": {}
   },
   "outputs": [],
   "source": [
    "keep_vars = ['mesh2d_sa1', 'mesh2d_node_z', 'mesh2d_ucx', 'mesh2d_ucy', 'mesh2d_ucz', 'mesh2d_vol1', 'mesh2d_vicwwu','mesh2d_tem1', 'mesh2d_face_nodes', 'mesh2d_edge_nodes', 'mesh2d']"
   ]
  },
  {
   "cell_type": "markdown",
   "metadata": {},
   "source": [
    "Visualize the loaded data to see if it's consistent."
   ]
  },
  {
   "cell_type": "code",
   "execution_count": 19,
   "metadata": {
    "metadata": {}
   },
   "outputs": [
    {
     "data": {
      "text/plain": [
       "<matplotlib.collections.PolyCollection at 0x15532399d520>"
      ]
     },
     "execution_count": 19,
     "metadata": {},
     "output_type": "execute_result"
    },
    {
     "data": {
      "image/png": "[encoded data removed]",
      "text/plain": [
       "<Figure size 640x480 with 2 Axes>"
      ]
     },
     "metadata": {},
     "output_type": "display_data"
    }
   ],
   "source": [
    "data_xr.isel(time=5, mesh2d_nLayers=45)['mesh2d_sa1'].ugrid.plot()"
   ]
  },
  {
   "cell_type": "markdown",
   "metadata": {
    "metadata": {}
   },
   "source": [
    "# Testing write total"
   ]
  },
  {
   "cell_type": "code",
   "execution_count": 20,
   "metadata": {
    "metadata": {}
   },
   "outputs": [],
   "source": [
    "out_file = r'testing_readwrite_map.nc'"
   ]
  },
  {
   "cell_type": "code",
   "execution_count": 41,
   "metadata": {
    "metadata": {}
   },
   "outputs": [
    {
     "name": "stderr",
     "output_type": "stream",
     "text": [
      "/home/mgeraeds/.conda/envs/dfm_proc_env/lib/python3.9/site-packages/distributed/client.py:3163: UserWarning: Sending large graph of size 15.69 MiB.\n",
      "This may cause some slowdown.\n",
      "Consider scattering data ahead of time and using futures.\n",
      "  warnings.warn(\n"
     ]
    }
   ],
   "source": [
    "# ds.ugrid.to_netcdf(out_file, compute=True)\n",
    "with ProgressBar():\n",
    "    ds.ugrid.to_netcdf(out_file, compute=True)"
   ]
  },
  {
   "cell_type": "code",
   "execution_count": 45,
   "metadata": {
    "metadata": {}
   },
   "outputs": [],
   "source": [
    "out_file = 'testing_readwrite2_map.nc'"
   ]
  },
  {
   "cell_type": "code",
   "execution_count": 46,
   "metadata": {
    "metadata": {}
   },
   "outputs": [
    {
     "name": "stderr",
     "output_type": "stream",
     "text": [
      "/home/mgeraeds/.conda/envs/dfm_proc_env/lib/python3.9/site-packages/distributed/client.py:3163: UserWarning: Sending large graph of size 14.87 MiB.\n",
      "This may cause some slowdown.\n",
      "Consider scattering data ahead of time and using futures.\n",
      "  warnings.warn(\n"
     ]
    }
   ],
   "source": [
    "xrds = ds.ugrid.to_dataset()\n",
    "write_task = xrds.to_netcdf(out_file, compute=False)\n",
    "with ProgressBar():\n",
    "    write_task.compute()"
   ]
  },
  {
   "cell_type": "code",
   "execution_count": 53,
   "metadata": {
    "metadata": {}
   },
   "outputs": [
    {
     "name": "stdout",
     "output_type": "stream",
     "text": [
      ">> xu.open_dataset() with 1 partition(s): 1 [7 nan fillvalue attrs removed][nodomainvar] : 1.15 sec\n"
     ]
    }
   ],
   "source": [
    "testing_load = dfmt.open_partitioned_dataset('testing_readwrite_total_map.nc')"
   ]
  },
  {
   "cell_type": "markdown",
   "metadata": {},
   "source": [
    "# Testing write per variable"
   ]
  },
  {
   "cell_type": "markdown",
   "metadata": {},
   "source": [
    "Determine the name of the output file."
   ]
  },
  {
   "cell_type": "code",
   "execution_count": 27,
   "metadata": {
    "metadata": {}
   },
   "outputs": [],
   "source": [
    "out_file = r'variable_test.nc'"
   ]
  },
  {
   "cell_type": "code",
   "execution_count": 22,
   "metadata": {},
   "outputs": [],
   "source": [
    "import xugrid as xu"
   ]
  },
  {
   "cell_type": "code",
   "execution_count": 35,
   "metadata": {},
   "outputs": [],
   "source": [
    "encoding = {\"mesh2d_face_nodes\": {\"dtype\": \"float32\"}, \"mesh2d_edge_nodes\": {\"dtype\": \"float64\"}, \"mesh2d_nNodes\": {\"dtype\":\"int32\"}, \"mesh2d_nFaces\": {\"dtype\":\"int32\"}, \"mesh2d_nEdges\": {\"dtype\":\"int32\"}, \"mesh2d_flowelem_zcc\": {\"dtype\":\"float32\"}, \"mesh2d_flowelem_zw\": {\"dtype\":\"float32\"}, \"mesh2d_face_x\": {\"dtype\":\"float32\"}, \"mesh2d_face_y\": {\"dtype\":\"float32\"}, \"mesh2d_edge_x\": {\"dtype\":\"float32\"}, \"mesh2d_edge_y\": {\"dtype\":\"float32\"}, \"mesh2d_sa1\": {\"dtype\":\"float32\"}, \"mesh2d_node_x\": {\"dtype\":\"float32\"}, \"mesh2d_node_y\": {\"dtype\":\"float32\"}, \"mesh2d_node_z\": {\"dtype\":\"float32\"}, \"mesh2d_ucx\": {\"dtype\":\"float32\"}, \"mesh2d_ucy\": {\"dtype\":\"float32\"}, \"mesh2d_ucz\": {\"dtype\":\"float32\"}, \"mesh2d_vol1\": {\"dtype\":\"float32\"}, \"mesh2d_vicwwu\": {\"dtype\":\"float32\"}, \"mesh2d_tem1\":{\"dtype\":\"float32\"}}"
   ]
  },
  {
   "cell_type": "markdown",
   "metadata": {},
   "source": [
    "`xugrid` implementation"
   ]
  },
  {
   "cell_type": "code",
   "execution_count": 25,
   "metadata": {},
   "outputs": [],
   "source": [
    "ds = data_xr"
   ]
  },
  {
   "cell_type": "code",
   "execution_count": 28,
   "metadata": {
    "metadata": {}
   },
   "outputs": [
    {
     "name": "stdout",
     "output_type": "stream",
     "text": [
      "Starting selection of variable mesh2d_sa1...\n",
      "Loaded the dataset at variable mesh2d_sa1.\n",
      "Writing file to disk...\n",
      "Outputfile: variable_test.nc\n",
      "Starting selection of variable mesh2d_node_z...\n",
      "Loaded the dataset at variable mesh2d_node_z.\n",
      "Writing file to disk in append mode...\n",
      "Outputfile: variable_test.nc\n",
      "Starting selection of variable mesh2d_ucx...\n",
      "Loaded the dataset at variable mesh2d_ucx.\n",
      "Writing file to disk in append mode...\n",
      "Outputfile: variable_test.nc\n",
      "Starting selection of variable mesh2d_ucy...\n",
      "Loaded the dataset at variable mesh2d_ucy.\n",
      "Writing file to disk in append mode...\n",
      "Outputfile: variable_test.nc\n",
      "Starting selection of variable mesh2d_ucz...\n",
      "Loaded the dataset at variable mesh2d_ucz.\n",
      "Writing file to disk in append mode...\n",
      "Outputfile: variable_test.nc\n",
      "Starting selection of variable mesh2d_vol1...\n",
      "Loaded the dataset at variable mesh2d_vol1.\n",
      "Writing file to disk in append mode...\n",
      "Outputfile: variable_test.nc\n",
      "Starting selection of variable mesh2d_vicwwu...\n",
      "Loaded the dataset at variable mesh2d_vicwwu.\n",
      "Writing file to disk in append mode...\n",
      "Outputfile: variable_test.nc\n",
      "Starting selection of variable mesh2d_tem1...\n",
      "Loaded the dataset at variable mesh2d_tem1.\n",
      "Writing file to disk in append mode...\n",
      "Outputfile: variable_test.nc\n",
      "Starting selection of variable mesh2d_face_nodes...\n",
      "Loaded the dataset at variable mesh2d_face_nodes.\n",
      "Writing file to disk in append mode...\n",
      "Outputfile: variable_test.nc\n",
      "Starting selection of variable mesh2d_edge_nodes...\n",
      "Loaded the dataset at variable mesh2d_edge_nodes.\n",
      "Writing file to disk in append mode...\n",
      "Outputfile: variable_test.nc\n",
      "Starting selection of variable mesh2d...\n",
      "Loaded the dataset at variable mesh2d.\n",
      "Writing file to disk in append mode...\n",
      "Outputfile: variable_test.nc\n",
      "Starting selection of variable mesh2d...\n",
      "Loaded the dataset at variable mesh2d.\n",
      "Writing file to disk in append mode...\n",
      "Outputfile: variable_test.nc\n",
      "Starting selection of variable mesh2d_face_nodes...\n",
      "Loaded the dataset at variable mesh2d_face_nodes.\n",
      "Writing file to disk in append mode...\n",
      "Outputfile: variable_test.nc\n",
      "Starting selection of variable mesh2d_edge_nodes...\n",
      "Loaded the dataset at variable mesh2d_edge_nodes.\n",
      "Writing file to disk in append mode...\n",
      "Outputfile: variable_test.nc\n",
      "Starting selection of variable mesh2d_node_x...\n",
      "Loaded the dataset at variable mesh2d_node_x.\n",
      "Writing file to disk in append mode...\n",
      "Outputfile: variable_test.nc\n",
      "Starting selection of variable mesh2d_node_y...\n",
      "Loaded the dataset at variable mesh2d_node_y.\n",
      "Writing file to disk in append mode...\n",
      "Outputfile: variable_test.nc\n"
     ]
    }
   ],
   "source": [
    "# Define counter for possible subdivision of times in writing\n",
    "i = 0\n",
    "tds = ds.isel(time=slice(0,10))\n",
    "\n",
    "for v in keep_vars:\n",
    "\n",
    "    # > Select the time\n",
    "    print(f'Starting selection of variable {v}...')\n",
    "    vds = tds[v]#.astype('float32', casting='same_kind') # first test with reducing the data\n",
    "\n",
    "    print(f'Loaded the dataset at variable {v}.')\n",
    "\n",
    "    # > If there's encoding specified, make a subset for the variables in that dataset only\n",
    "    var_list = list(vds.coords) + [vds.name]\n",
    "    encoding_sub = dict(ChainMap(*[{f\"{v}\": encoding[v]} for v in var_list if v in encoding]))\n",
    "\n",
    "    if i == 0:\n",
    "        # > For t = 0 in the range of timesteps, check if there's a file\n",
    "        # > already present. If it is, remove it.\n",
    "        if os.path.isfile(out_file):\n",
    "            os.remove(out_file)\n",
    "\n",
    "        # Use dask.delayed to write file to disk\n",
    "        print('Writing file to disk...')\n",
    "        print(f\"Outputfile: {out_file}\")\n",
    "        vds.ugrid.to_netcdf(out_file, mode='w', compute=True, encoding=encoding_sub)\n",
    "\n",
    "    else:\n",
    "        # Use dask.delayed to write file to disk\n",
    "        print('Writing file to disk in append mode...')\n",
    "        print(f\"Outputfile: {out_file}\")\n",
    "        vds.ugrid.to_netcdf(out_file, mode='a', compute=True, encoding=encoding_sub)\n",
    "\n",
    "    # writing_task.compute()\n",
    "    vds.close()\n",
    "\n",
    "    # > Update counter\n",
    "    i += 1"
   ]
  },
  {
   "cell_type": "markdown",
   "metadata": {},
   "source": [
    "`xarray` implementation"
   ]
  },
  {
   "cell_type": "code",
   "execution_count": 134,
   "metadata": {},
   "outputs": [],
   "source": [
    "import xugrid as xu"
   ]
  },
  {
   "cell_type": "code",
   "execution_count": 30,
   "metadata": {},
   "outputs": [],
   "source": [
    "ds = data_xr"
   ]
  },
  {
   "cell_type": "code",
   "execution_count": 36,
   "metadata": {},
   "outputs": [
    {
     "name": "stdout",
     "output_type": "stream",
     "text": [
      "Starting selection of variable mesh2d_sa1...\n",
      "Writing file to disk...\n",
      "Outputfile: variable_test.nc\n",
      "Starting selection of variable mesh2d_node_z...\n",
      "Writing file to disk in append mode...\n",
      "Outputfile: variable_test.nc\n",
      "Starting selection of variable mesh2d_ucx...\n",
      "Writing file to disk in append mode...\n",
      "Outputfile: variable_test.nc\n",
      "Starting selection of variable mesh2d_ucy...\n",
      "Writing file to disk in append mode...\n",
      "Outputfile: variable_test.nc\n",
      "Starting selection of variable mesh2d_ucz...\n",
      "Writing file to disk in append mode...\n",
      "Outputfile: variable_test.nc\n",
      "Starting selection of variable mesh2d_vol1...\n",
      "Writing file to disk in append mode...\n",
      "Outputfile: variable_test.nc\n",
      "Starting selection of variable mesh2d_vicwwu...\n",
      "Writing file to disk in append mode...\n",
      "Outputfile: variable_test.nc\n",
      "Starting selection of variable mesh2d_tem1...\n",
      "Writing file to disk in append mode...\n",
      "Outputfile: variable_test.nc\n",
      "Starting selection of variable mesh2d_face_nodes...\n",
      "Writing file to disk in append mode...\n",
      "Outputfile: variable_test.nc\n",
      "Starting selection of variable mesh2d_edge_nodes...\n",
      "Writing file to disk in append mode...\n",
      "Outputfile: variable_test.nc\n",
      "Starting selection of variable mesh2d...\n",
      "Writing file to disk in append mode...\n",
      "Outputfile: variable_test.nc\n",
      "Starting selection of variable mesh2d...\n",
      "Writing file to disk in append mode...\n",
      "Outputfile: variable_test.nc\n",
      "Starting selection of variable mesh2d_face_nodes...\n",
      "Writing file to disk in append mode...\n",
      "Outputfile: variable_test.nc\n",
      "Starting selection of variable mesh2d_edge_nodes...\n",
      "Writing file to disk in append mode...\n",
      "Outputfile: variable_test.nc\n",
      "Starting selection of variable mesh2d_node_x...\n",
      "Writing file to disk in append mode...\n",
      "Outputfile: variable_test.nc\n",
      "Starting selection of variable mesh2d_node_y...\n",
      "Writing file to disk in append mode...\n",
      "Outputfile: variable_test.nc\n",
      "Starting selection of variable mesh2d...\n",
      "Writing file to disk in append mode...\n",
      "Outputfile: variable_test.nc\n",
      "Starting selection of variable mesh2d_face_nodes...\n",
      "Writing file to disk in append mode...\n",
      "Outputfile: variable_test.nc\n",
      "Starting selection of variable mesh2d_edge_nodes...\n",
      "Writing file to disk in append mode...\n",
      "Outputfile: variable_test.nc\n",
      "Starting selection of variable mesh2d_node_x...\n",
      "Writing file to disk in append mode...\n",
      "Outputfile: variable_test.nc\n",
      "Starting selection of variable mesh2d_node_y...\n",
      "Writing file to disk in append mode...\n",
      "Outputfile: variable_test.nc\n"
     ]
    }
   ],
   "source": [
    "# Define counter for possible subdivision of times in writing\n",
    "i = 0\n",
    "\n",
    "# > If it's an unstructured xu.UgridDataset, make the dataset into an xr.Dataset\n",
    "if isinstance(ds, xu.core.wrap.UgridDataset):\n",
    "    # > We need to store the hidden information as well, so get those variables\n",
    "    hidden_vars = list(ds.ugrid.grid.to_dataset().variables)\n",
    "    # > Add them to the keep_vars list\n",
    "    keep_vars = keep_vars + hidden_vars\n",
    "    # > Make the original dataset into an xr.Dataset\n",
    "    ds = ds.ugrid.to_dataset()\n",
    "    # > Only get the reduced dataset with keep_vars\n",
    "    ds = ds[keep_vars]\n",
    "    \n",
    "else:\n",
    "    ds = ds[keep_vars]\n",
    "\n",
    "# > Select the required time period\n",
    "tds = ds.isel(time=slice(0,10))\n",
    "\n",
    "for v in keep_vars:\n",
    "\n",
    "    # > Select the time\n",
    "    print(f'Starting selection of variable {v}...')\n",
    "    vds = tds[v] #.astype('float32', casting='same_kind') # first test with reducing the data\n",
    "\n",
    "    # print(f'Loaded the dataset at variable {v}.')\n",
    "\n",
    "    # > If there's encoding specified, make a subset for the variables in that dataset only\n",
    "    var_list = list(vds.coords) + [vds.name]\n",
    "    \n",
    "    # try:\n",
    "    encoding_sub = dict(ChainMap(*[{f\"{v}\": encoding[v]} for v in var_list if v in encoding]))\n",
    "    # except:\n",
    "    #     encoding_sub = {}\n",
    "\n",
    "    if i == 0:\n",
    "        # > For t = 0 in the range of timesteps, check if there's a file\n",
    "        # > already present. If it is, remove it.\n",
    "        if os.path.isfile(out_file):\n",
    "            os.remove(out_file)\n",
    "\n",
    "        # Use dask.delayed to write file to disk\n",
    "        print('Writing file to disk...')\n",
    "        # print(f\"Outputfile: {out_file}\")\n",
    "        vds.to_netcdf(out_file, mode='w', compute=True, encoding=encoding_sub)\n",
    "\n",
    "    else:\n",
    "        # Use dask.delayed to write file to disk\n",
    "        print('Writing file to disk in append mode...')\n",
    "        # print(f\"Outputfile: {out_file}\")\n",
    "        vds.to_netcdf(out_file, mode='a', compute=True, encoding=encoding_sub)\n",
    "\n",
    "    # writing_task.compute()\n",
    "    vds.close()\n",
    "\n",
    "    print(f\"Outputfile: {out_file}\")\n",
    "    # > Update counter\n",
    "    i += 1"
   ]
  },
  {
   "cell_type": "markdown",
   "metadata": {},
   "source": [
    "# Check reference without data reduction"
   ]
  },
  {
   "cell_type": "code",
   "execution_count": 37,
   "metadata": {},
   "outputs": [],
   "source": [
    "out_file_ref = r'variable_test_ref.nc'"
   ]
  },
  {
   "cell_type": "code",
   "execution_count": 208,
   "metadata": {},
   "outputs": [
    {
     "name": "stdout",
     "output_type": "stream",
     "text": [
      "Starting selection of variable mesh2d_sa1...\n",
      "Loaded the dataset at variable mesh2d_sa1.\n",
      "Writing file to disk...\n",
      "Outputfile: variable_test_ref.nc\n",
      "Starting selection of variable mesh2d_node_z...\n",
      "Loaded the dataset at variable mesh2d_node_z.\n",
      "Writing file to disk in append mode...\n",
      "Outputfile: variable_test_ref.nc\n",
      "Starting selection of variable mesh2d_ucx...\n",
      "Loaded the dataset at variable mesh2d_ucx.\n",
      "Writing file to disk in append mode...\n",
      "Outputfile: variable_test_ref.nc\n",
      "Starting selection of variable mesh2d_ucy...\n",
      "Loaded the dataset at variable mesh2d_ucy.\n",
      "Writing file to disk in append mode...\n",
      "Outputfile: variable_test_ref.nc\n",
      "Starting selection of variable mesh2d_ucz...\n",
      "Loaded the dataset at variable mesh2d_ucz.\n",
      "Writing file to disk in append mode...\n",
      "Outputfile: variable_test_ref.nc\n",
      "Starting selection of variable mesh2d_vol1...\n",
      "Loaded the dataset at variable mesh2d_vol1.\n",
      "Writing file to disk in append mode...\n",
      "Outputfile: variable_test_ref.nc\n",
      "Starting selection of variable mesh2d_vicwwu...\n",
      "Loaded the dataset at variable mesh2d_vicwwu.\n",
      "Writing file to disk in append mode...\n",
      "Outputfile: variable_test_ref.nc\n",
      "Starting selection of variable mesh2d_tem1...\n",
      "Loaded the dataset at variable mesh2d_tem1.\n",
      "Writing file to disk in append mode...\n",
      "Outputfile: variable_test_ref.nc\n",
      "Starting selection of variable mesh2d_face_nodes...\n",
      "Loaded the dataset at variable mesh2d_face_nodes.\n",
      "Writing file to disk in append mode...\n",
      "Outputfile: variable_test_ref.nc\n",
      "Starting selection of variable mesh2d_edge_nodes...\n",
      "Loaded the dataset at variable mesh2d_edge_nodes.\n",
      "Writing file to disk in append mode...\n",
      "Outputfile: variable_test_ref.nc\n",
      "Starting selection of variable mesh2d...\n",
      "Loaded the dataset at variable mesh2d.\n",
      "Writing file to disk in append mode...\n",
      "Outputfile: variable_test_ref.nc\n"
     ]
    }
   ],
   "source": [
    "# Define counter for possible subdivision of times in writing\n",
    "i = 0\n",
    "\n",
    "# > If it's an unstructured xu.UgridDataset, make the dataset into an xr.Dataset\n",
    "if isinstance(ds, xu.core.wrap.UgridDataset):\n",
    "    # > We need to store the hidden information as well, so get those variables\n",
    "    hidden_vars = list(ds.ugrid.grid.to_dataset().variables)\n",
    "    # > Add them to the keep_vars list\n",
    "    keep_vars = keep_vars + hidden_vars\n",
    "    # > Make the original dataset into an xr.Dataset\n",
    "    ds = ds.ugrid.to_dataset()\n",
    "    # > Only get the reduced dataset with keep_vars\n",
    "    ds = ds[keep_vars]\n",
    "    \n",
    "else:\n",
    "    ds = ds[keep_vars]\n",
    "\n",
    "# > Select the required time period\n",
    "tds = ds.isel(time=slice(0,10))\n",
    "\n",
    "for v in keep_vars:\n",
    "\n",
    "    # > Select the time\n",
    "    print(f'Starting selection of variable {v}...')\n",
    "    vds = tds[v] #.astype('float32', casting='same_kind') # first test with reducing the data\n",
    "\n",
    "    print(f'Loaded the dataset at variable {v}.')\n",
    "\n",
    "    if i == 0:\n",
    "        # > For t = 0 in the range of timesteps, check if there's a file\n",
    "        # > already present. If it is, remove it.\n",
    "        if os.path.isfile(out_file_ref):\n",
    "            os.remove(out_file_ref)\n",
    "\n",
    "        # Use dask.delayed to write file to disk\n",
    "        print('Writing file to disk...')\n",
    "        # print(f\"Outputfile: {out_file}\")\n",
    "        vds.to_netcdf(out_file_ref, mode='w', compute=True)\n",
    "\n",
    "    else:\n",
    "        # Use dask.delayed to write file to disk\n",
    "        print('Writing file to disk in append mode...')\n",
    "        # print(f\"Outputfile: {out_file}\")\n",
    "        vds.to_netcdf(out_file_ref, mode='a', compute=True)\n",
    "\n",
    "    # writing_task.compute()\n",
    "    vds.close()\n",
    "\n",
    "    print(f\"Outputfile: {out_file_ref}\")\n",
    "    # > Update counter\n",
    "    i += 1"
   ]
  },
  {
   "cell_type": "markdown",
   "metadata": {},
   "source": [
    "Re-load the dataset to check written contents (first into xarray and then into an xugrid.UgridDataset)."
   ]
  },
  {
   "cell_type": "code",
   "execution_count": 203,
   "metadata": {
    "metadata": {}
   },
   "outputs": [],
   "source": [
    "testing_load_xr = xr.open_dataset('variable_test.nc')\n",
    "testing_load_xu = xu.open_dataset('variable_test.nc')"
   ]
  },
  {
   "cell_type": "markdown",
   "metadata": {},
   "source": [
    "Visualize the data."
   ]
  },
  {
   "cell_type": "code",
   "execution_count": 206,
   "metadata": {
    "metadata": {}
   },
   "outputs": [
    {
     "data": {
      "text/plain": [
       "<matplotlib.collections.PolyCollection at 0x14eec34a29d0>"
      ]
     },
     "execution_count": 206,
     "metadata": {},
     "output_type": "execute_result"
    },
    {
     "data": {
      "image/png": "[encoded data removed]",
      "text/plain": [
       "<Figure size 640x480 with 2 Axes>"
      ]
     },
     "metadata": {},
     "output_type": "display_data"
    }
   ],
   "source": [
    "testing_load_xu.isel(time=5, mesh2d_nLayers=46)['mesh2d_sa1'].ugrid.plot()"
   ]
  }
 ],
 "metadata": {
  "kernelspec": {
   "display_name": "Python 3",
   "language": "python",
   "name": "python3"
  },
  "language_info": {
   "codemirror_mode": {
    "name": "ipython",
    "version": 3
   },
   "file_extension": ".py",
   "mimetype": "text/x-python",
   "name": "python",
   "nbconvert_exporter": "python",
   "pygments_lexer": "ipython3",
   "version": "3.9.16"
  }
 },
 "nbformat": 4,
 "nbformat_minor": 2
}
