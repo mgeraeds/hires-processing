{
 "cells": [
  {
   "cell_type": "code",
   "execution_count": 4,
   "metadata": {},
   "outputs": [
    {
     "name": "stderr",
     "output_type": "stream",
     "text": [
      "/home/meggeraeds/.conda/envs/hires_env/lib/python3.11/site-packages/tqdm/auto.py:21: TqdmWarning: IProgress not found. Please update jupyter and ipywidgets. See https://ipywidgets.readthedocs.io/en/stable/user_install.html\n",
      "  from .autonotebook import tqdm as notebook_tqdm\n"
     ]
    }
   ],
   "source": [
    "import numpy as np\n",
    "import xarray as xr\n",
    "import dfm_tools as dfmt"
   ]
  },
  {
   "cell_type": "code",
   "execution_count": 5,
   "metadata": {},
   "outputs": [],
   "source": [
    "import glob\n",
    "import warnings"
   ]
  },
  {
   "cell_type": "code",
   "execution_count": 38,
   "metadata": {},
   "outputs": [],
   "source": [
    "from dask_jobqueue import SLURMCluster\n",
    "from dask.distributed import Client"
   ]
  },
  {
   "cell_type": "code",
   "execution_count": 42,
   "metadata": {},
   "outputs": [],
   "source": [
    "n_cores = 1\n",
    "n_processes = 4\n",
    "mem_lim = str(int(np.floor(768/(n_cores*n_processes))))+'GB' # 768 GB of memory for one entire memory node on DelftBlue"
   ]
  },
  {
   "cell_type": "code",
   "execution_count": 43,
   "metadata": {},
   "outputs": [
    {
     "name": "stderr",
     "output_type": "stream",
     "text": [
      "/home/meggeraeds/.conda/envs/hires_env/lib/python3.11/site-packages/distributed/node.py:182: UserWarning: Port 8787 is already in use.\n",
      "Perhaps you already have a cluster running?\n",
      "Hosting the HTTP server on port 35719 instead\n",
      "  warnings.warn(\n"
     ]
    }
   ],
   "source": [
    "cluster = SLURMCluster(name='dask-cluster',\n",
    "                       cores=n_cores,\n",
    "                       memory=mem_lim,\n",
    "                       processes=n_processes,\n",
    "                       interface='ib0',\n",
    "                       queue='memory',\n",
    "                       walltime='04:00:00',\n",
    "                       asynchronous=0)"
   ]
  },
  {
   "cell_type": "code",
   "execution_count": 44,
   "metadata": {},
   "outputs": [
    {
     "name": "stdout",
     "output_type": "stream",
     "text": [
      "#!/usr/bin/env bash\n",
      "\n",
      "#SBATCH -J dask-worker\n",
      "#SBATCH -p memory\n",
      "#SBATCH -n 1\n",
      "#SBATCH --cpus-per-task=1\n",
      "#SBATCH --mem=179G\n",
      "#SBATCH -t 04:00:00\n",
      "\n",
      "/home/meggeraeds/.conda/envs/hires_env/bin/python -m distributed.cli.dask_worker tcp://172.21.12.3:39725 --name dummy-name --nthreads 0 --memory-limit 44.70GiB --nworkers 4 --nanny --death-timeout 60 --interface ib0\n",
      "\n"
     ]
    }
   ],
   "source": [
    "print(cluster.job_script())"
   ]
  },
  {
   "cell_type": "code",
   "execution_count": 45,
   "metadata": {},
   "outputs": [],
   "source": [
    "cluster.scale(1)"
   ]
  },
  {
   "cell_type": "code",
   "execution_count": 54,
   "metadata": {},
   "outputs": [],
   "source": [
    "client = Client(cluster)"
   ]
  },
  {
   "cell_type": "code",
   "execution_count": 86,
   "metadata": {},
   "outputs": [
    {
     "data": {
      "text/html": [
       "<div>\n",
       "    <div style=\"width: 24px; height: 24px; background-color: #e1e1e1; border: 3px solid #9D9D9D; border-radius: 5px; position: absolute;\"> </div>\n",
       "    <div style=\"margin-left: 48px;\">\n",
       "        <h3 style=\"margin-bottom: 0px;\">Client</h3>\n",
       "        <p style=\"color: #9D9D9D; margin-bottom: 0px;\">Client-df80c839-e138-11ee-bbb9-4c526248a594</p>\n",
       "        <table style=\"width: 100%; text-align: left;\">\n",
       "\n",
       "        <tr>\n",
       "        \n",
       "            <td style=\"text-align: left;\"><strong>Connection method:</strong> Cluster object</td>\n",
       "            <td style=\"text-align: left;\"><strong>Cluster type:</strong> dask_jobqueue.SLURMCluster</td>\n",
       "        \n",
       "        </tr>\n",
       "\n",
       "        \n",
       "            <tr>\n",
       "                <td style=\"text-align: left;\">\n",
       "                    <strong>Dashboard: </strong> <a href=\"http://172.21.12.3:35719/status\" target=\"_blank\">http://172.21.12.3:35719/status</a>\n",
       "                </td>\n",
       "                <td style=\"text-align: left;\"></td>\n",
       "            </tr>\n",
       "        \n",
       "\n",
       "        </table>\n",
       "\n",
       "        \n",
       "\n",
       "        \n",
       "            <details>\n",
       "            <summary style=\"margin-bottom: 20px;\"><h3 style=\"display: inline;\">Cluster Info</h3></summary>\n",
       "            <div class=\"jp-RenderedHTMLCommon jp-RenderedHTML jp-mod-trusted jp-OutputArea-output\">\n",
       "    <div style=\"width: 24px; height: 24px; background-color: #e1e1e1; border: 3px solid #9D9D9D; border-radius: 5px; position: absolute;\">\n",
       "    </div>\n",
       "    <div style=\"margin-left: 48px;\">\n",
       "        <h3 style=\"margin-bottom: 0px; margin-top: 0px;\">SLURMCluster</h3>\n",
       "        <p style=\"color: #9D9D9D; margin-bottom: 0px;\">dask-cluster</p>\n",
       "        <table style=\"width: 100%; text-align: left;\">\n",
       "            <tr>\n",
       "                <td style=\"text-align: left;\">\n",
       "                    <strong>Dashboard:</strong> <a href=\"http://172.21.12.3:35719/status\" target=\"_blank\">http://172.21.12.3:35719/status</a>\n",
       "                </td>\n",
       "                <td style=\"text-align: left;\">\n",
       "                    <strong>Workers:</strong> 0\n",
       "                </td>\n",
       "            </tr>\n",
       "            <tr>\n",
       "                <td style=\"text-align: left;\">\n",
       "                    <strong>Total threads:</strong> 0\n",
       "                </td>\n",
       "                <td style=\"text-align: left;\">\n",
       "                    <strong>Total memory:</strong> 0 B\n",
       "                </td>\n",
       "            </tr>\n",
       "            \n",
       "        </table>\n",
       "\n",
       "        <details>\n",
       "            <summary style=\"margin-bottom: 20px;\">\n",
       "                <h3 style=\"display: inline;\">Scheduler Info</h3>\n",
       "            </summary>\n",
       "\n",
       "            <div style=\"\">\n",
       "    <div>\n",
       "        <div style=\"width: 24px; height: 24px; background-color: #FFF7E5; border: 3px solid #FF6132; border-radius: 5px; position: absolute;\"> </div>\n",
       "        <div style=\"margin-left: 48px;\">\n",
       "            <h3 style=\"margin-bottom: 0px;\">Scheduler</h3>\n",
       "            <p style=\"color: #9D9D9D; margin-bottom: 0px;\">Scheduler-58d1d9c1-3629-4c0c-b9de-14a6dbc6d459</p>\n",
       "            <table style=\"width: 100%; text-align: left;\">\n",
       "                <tr>\n",
       "                    <td style=\"text-align: left;\">\n",
       "                        <strong>Comm:</strong> tcp://172.21.12.3:39725\n",
       "                    </td>\n",
       "                    <td style=\"text-align: left;\">\n",
       "                        <strong>Workers:</strong> 0\n",
       "                    </td>\n",
       "                </tr>\n",
       "                <tr>\n",
       "                    <td style=\"text-align: left;\">\n",
       "                        <strong>Dashboard:</strong> <a href=\"http://172.21.12.3:35719/status\" target=\"_blank\">http://172.21.12.3:35719/status</a>\n",
       "                    </td>\n",
       "                    <td style=\"text-align: left;\">\n",
       "                        <strong>Total threads:</strong> 0\n",
       "                    </td>\n",
       "                </tr>\n",
       "                <tr>\n",
       "                    <td style=\"text-align: left;\">\n",
       "                        <strong>Started:</strong> 1 hour ago\n",
       "                    </td>\n",
       "                    <td style=\"text-align: left;\">\n",
       "                        <strong>Total memory:</strong> 0 B\n",
       "                    </td>\n",
       "                </tr>\n",
       "            </table>\n",
       "        </div>\n",
       "    </div>\n",
       "\n",
       "    <details style=\"margin-left: 48px;\">\n",
       "        <summary style=\"margin-bottom: 20px;\">\n",
       "            <h3 style=\"display: inline;\">Workers</h3>\n",
       "        </summary>\n",
       "\n",
       "        \n",
       "\n",
       "    </details>\n",
       "</div>\n",
       "\n",
       "        </details>\n",
       "    </div>\n",
       "</div>\n",
       "            </details>\n",
       "        \n",
       "\n",
       "    </div>\n",
       "</div>"
      ],
      "text/plain": [
       "<Client: 'tcp://172.21.12.3:39725' processes=0 threads=0, memory=0 B>"
      ]
     },
     "execution_count": 86,
     "metadata": {},
     "output_type": "execute_result"
    }
   ],
   "source": [
    "client"
   ]
  },
  {
   "cell_type": "code",
   "execution_count": 79,
   "metadata": {},
   "outputs": [],
   "source": [
    "input_regex = r'/scratch/meggeraeds/test_raw/RMM_dflowfm_2022_jul21_aug7_sm_000*.nc'"
   ]
  },
  {
   "cell_type": "code",
   "execution_count": 80,
   "metadata": {},
   "outputs": [],
   "source": [
    "## 1. Input tests\n",
    "# 1.x. Loop through all of the files and write when there is something wrong with the file\n",
    "file_list = glob.glob(input_regex)\n",
    "\n",
    "# 1.x Make a list for corrupted files\n",
    "corrupted = []\n",
    "\n",
    "for file in file_list:\n",
    "\n",
    "    file_name = file.split('/')[-1]\n",
    "    \n",
    "    try:\n",
    "        test = xr.open_dataset(file)\n",
    "    except:\n",
    "        warnings.warn(f'The file {file_name} seems to be corrupted. Check your inputs.', UserWarning)\n",
    "        corrupted.append(file)"
   ]
  },
  {
   "cell_type": "code",
   "execution_count": 81,
   "metadata": {},
   "outputs": [],
   "source": [
    "# I.x Check if there are any corrupted files in the listed files\n",
    "if len(corrupted) > 0:\n",
    "    print('There are corrupted files. These will be taken out of the file list for the next tests.')\n",
    "# I.x Get the entire input list and remove the corrupted files\n",
    "input_files = [f for f in glob.glob(input_regex) if not f in corrupted]"
   ]
  },
  {
   "cell_type": "code",
   "execution_count": 82,
   "metadata": {},
   "outputs": [
    {
     "data": {
      "text/plain": [
       "['/scratch/meggeraeds/test_raw/RMM_dflowfm_2022_jul21_aug7_sm_0006_map.nc',\n",
       " '/scratch/meggeraeds/test_raw/RMM_dflowfm_2022_jul21_aug7_sm_0002_map.nc',\n",
       " '/scratch/meggeraeds/test_raw/RMM_dflowfm_2022_jul21_aug7_sm_0003_map.nc',\n",
       " '/scratch/meggeraeds/test_raw/RMM_dflowfm_2022_jul21_aug7_sm_0005_map.nc',\n",
       " '/scratch/meggeraeds/test_raw/RMM_dflowfm_2022_jul21_aug7_sm_0004_map.nc',\n",
       " '/scratch/meggeraeds/test_raw/RMM_dflowfm_2022_jul21_aug7_sm_0001_map.nc',\n",
       " '/scratch/meggeraeds/test_raw/RMM_dflowfm_2022_jul21_aug7_sm_0008_map.nc',\n",
       " '/scratch/meggeraeds/test_raw/RMM_dflowfm_2022_jul21_aug7_sm_0009_map.nc',\n",
       " '/scratch/meggeraeds/test_raw/RMM_dflowfm_2022_jul21_aug7_sm_0007_map.nc']"
      ]
     },
     "execution_count": 82,
     "metadata": {},
     "output_type": "execute_result"
    }
   ],
   "source": [
    "input_files"
   ]
  },
  {
   "cell_type": "code",
   "execution_count": 84,
   "metadata": {},
   "outputs": [
    {
     "name": "stdout",
     "output_type": "stream",
     "text": [
      ">> xu.open_dataset() with 9 partition(s): 1 "
     ]
    },
    {
     "name": "stderr",
     "output_type": "stream",
     "text": [
      "/home/meggeraeds/.conda/envs/hires_env/lib/python3.11/site-packages/xarray/core/dataset.py:278: UserWarning: The specified chunks separate the stored chunks along dimension \"time\" starting at index 40. This could degrade performance. Instead, consider rechunking after loading.\n",
      "  warnings.warn(\n",
      "Task exception was never retrieved\n",
      "future: <Task finished name='Task-489372' coro=<Client._gather.<locals>.wait() done, defined at /home/meggeraeds/.conda/envs/hires_env/lib/python3.11/site-packages/distributed/client.py:2208> exception=AllExit()>\n",
      "Traceback (most recent call last):\n",
      "  File \"/home/meggeraeds/.conda/envs/hires_env/lib/python3.11/site-packages/distributed/client.py\", line 2217, in wait\n",
      "    raise AllExit()\n",
      "distributed.client.AllExit\n"
     ]
    },
    {
     "ename": "KeyboardInterrupt",
     "evalue": "",
     "output_type": "error",
     "traceback": [
      "\u001b[0;31m---------------------------------------------------------------------------\u001b[0m",
      "\u001b[0;31mKeyboardInterrupt\u001b[0m                         Traceback (most recent call last)",
      "Cell \u001b[0;32mIn[84], line 1\u001b[0m\n\u001b[0;32m----> 1\u001b[0m data_xr \u001b[38;5;241m=\u001b[39m dfmt\u001b[38;5;241m.\u001b[39mopen_partitioned_dataset(input_files, chunks\u001b[38;5;241m=\u001b[39m{\u001b[38;5;124m'\u001b[39m\u001b[38;5;124mtime\u001b[39m\u001b[38;5;124m'\u001b[39m:\u001b[38;5;241m40\u001b[39m})\n",
      "File \u001b[0;32m~/.conda/envs/hires_env/lib/python3.11/site-packages/dfm_tools/xugrid_helpers.py:216\u001b[0m, in \u001b[0;36mopen_partitioned_dataset\u001b[0;34m(file_nc, decode_fillvals, remove_edges, remove_ghost, **kwargs)\u001b[0m\n\u001b[1;32m    214\u001b[0m     ds \u001b[38;5;241m=\u001b[39m decode_default_fillvals(ds)\n\u001b[1;32m    215\u001b[0m \u001b[38;5;28;01mif\u001b[39;00m remove_edges:\n\u001b[0;32m--> 216\u001b[0m     ds \u001b[38;5;241m=\u001b[39m remove_unassociated_edges(ds)\n\u001b[1;32m    217\u001b[0m \u001b[38;5;28;01mif\u001b[39;00m \u001b[38;5;124m'\u001b[39m\u001b[38;5;124mnFlowElem\u001b[39m\u001b[38;5;124m'\u001b[39m \u001b[38;5;129;01min\u001b[39;00m ds\u001b[38;5;241m.\u001b[39mdims \u001b[38;5;129;01mand\u001b[39;00m \u001b[38;5;124m'\u001b[39m\u001b[38;5;124mnNetElem\u001b[39m\u001b[38;5;124m'\u001b[39m \u001b[38;5;129;01min\u001b[39;00m ds\u001b[38;5;241m.\u001b[39mdims:\n\u001b[1;32m    218\u001b[0m     \u001b[38;5;28mprint\u001b[39m(\u001b[38;5;124m'\u001b[39m\u001b[38;5;124m[mapformat1] \u001b[39m\u001b[38;5;124m'\u001b[39m,end\u001b[38;5;241m=\u001b[39m\u001b[38;5;124m'\u001b[39m\u001b[38;5;124m'\u001b[39m)\n",
      "File \u001b[0;32m~/.conda/envs/hires_env/lib/python3.11/site-packages/dfm_tools/xugrid_helpers.py:104\u001b[0m, in \u001b[0;36mremove_unassociated_edges\u001b[0;34m(ds)\u001b[0m\n\u001b[1;32m     86\u001b[0m \u001b[38;5;28;01mdef\u001b[39;00m \u001b[38;5;21mremove_unassociated_edges\u001b[39m(ds: xr\u001b[38;5;241m.\u001b[39mDataset) \u001b[38;5;241m-\u001b[39m\u001b[38;5;241m>\u001b[39m xr\u001b[38;5;241m.\u001b[39mDataset:\n\u001b[1;32m     87\u001b[0m \u001b[38;5;250m    \u001b[39m\u001b[38;5;124;03m\"\"\"\u001b[39;00m\n\u001b[1;32m     88\u001b[0m \u001b[38;5;124;03m    Removes edges that are not associated to any of the faces, usecase in https://github.com/Deltares/xugrid/issues/68\u001b[39;00m\n\u001b[1;32m     89\u001b[0m \n\u001b[0;32m   (...)\u001b[0m\n\u001b[1;32m    101\u001b[0m \n\u001b[1;32m    102\u001b[0m \u001b[38;5;124;03m    \"\"\"\u001b[39;00m\n\u001b[0;32m--> 104\u001b[0m     uds \u001b[38;5;241m=\u001b[39m xu\u001b[38;5;241m.\u001b[39mcore\u001b[38;5;241m.\u001b[39mwrap\u001b[38;5;241m.\u001b[39mUgridDataset(ds)\n\u001b[1;32m    106\u001b[0m     \u001b[38;5;66;03m# escape for 1D networks\u001b[39;00m\n\u001b[1;32m    107\u001b[0m     \u001b[38;5;28;01mif\u001b[39;00m \u001b[38;5;28misinstance\u001b[39m(uds\u001b[38;5;241m.\u001b[39mgrid,xu\u001b[38;5;241m.\u001b[39mUgrid1d):\n",
      "File \u001b[0;32m~/.conda/envs/hires_env/lib/python3.11/site-packages/xugrid/core/wrap.py:288\u001b[0m, in \u001b[0;36mUgridDataset.__init__\u001b[0;34m(self, obj, grids)\u001b[0m\n\u001b[1;32m    286\u001b[0m \u001b[38;5;28;01mif\u001b[39;00m grids \u001b[38;5;129;01mis\u001b[39;00m \u001b[38;5;28;01mNone\u001b[39;00m:\n\u001b[1;32m    287\u001b[0m     topologies \u001b[38;5;241m=\u001b[39m obj\u001b[38;5;241m.\u001b[39mugrid_roles\u001b[38;5;241m.\u001b[39mtopology\n\u001b[0;32m--> 288\u001b[0m     grids \u001b[38;5;241m=\u001b[39m [grid_from_dataset(obj, topology) \u001b[38;5;28;01mfor\u001b[39;00m topology \u001b[38;5;129;01min\u001b[39;00m topologies]\n\u001b[1;32m    289\u001b[0m \u001b[38;5;28;01melse\u001b[39;00m:\n\u001b[1;32m    290\u001b[0m     \u001b[38;5;66;03m# Make sure it's a new list\u001b[39;00m\n\u001b[1;32m    291\u001b[0m     \u001b[38;5;28;01mif\u001b[39;00m \u001b[38;5;28misinstance\u001b[39m(grids, (\u001b[38;5;28mlist\u001b[39m, \u001b[38;5;28mtuple\u001b[39m, \u001b[38;5;28mset\u001b[39m)):\n",
      "File \u001b[0;32m~/.conda/envs/hires_env/lib/python3.11/site-packages/xugrid/core/wrap.py:288\u001b[0m, in \u001b[0;36m<listcomp>\u001b[0;34m(.0)\u001b[0m\n\u001b[1;32m    286\u001b[0m \u001b[38;5;28;01mif\u001b[39;00m grids \u001b[38;5;129;01mis\u001b[39;00m \u001b[38;5;28;01mNone\u001b[39;00m:\n\u001b[1;32m    287\u001b[0m     topologies \u001b[38;5;241m=\u001b[39m obj\u001b[38;5;241m.\u001b[39mugrid_roles\u001b[38;5;241m.\u001b[39mtopology\n\u001b[0;32m--> 288\u001b[0m     grids \u001b[38;5;241m=\u001b[39m [grid_from_dataset(obj, topology) \u001b[38;5;28;01mfor\u001b[39;00m topology \u001b[38;5;129;01min\u001b[39;00m topologies]\n\u001b[1;32m    289\u001b[0m \u001b[38;5;28;01melse\u001b[39;00m:\n\u001b[1;32m    290\u001b[0m     \u001b[38;5;66;03m# Make sure it's a new list\u001b[39;00m\n\u001b[1;32m    291\u001b[0m     \u001b[38;5;28;01mif\u001b[39;00m \u001b[38;5;28misinstance\u001b[39m(grids, (\u001b[38;5;28mlist\u001b[39m, \u001b[38;5;28mtuple\u001b[39m, \u001b[38;5;28mset\u001b[39m)):\n",
      "File \u001b[0;32m~/.conda/envs/hires_env/lib/python3.11/site-packages/xugrid/conversion.py:251\u001b[0m, in \u001b[0;36mgrid_from_dataset\u001b[0;34m(dataset, topology)\u001b[0m\n\u001b[1;32m    249\u001b[0m     \u001b[38;5;28;01mreturn\u001b[39;00m Ugrid1d\u001b[38;5;241m.\u001b[39mfrom_dataset(dataset, topology)\n\u001b[1;32m    250\u001b[0m \u001b[38;5;28;01melif\u001b[39;00m topodim \u001b[38;5;241m==\u001b[39m \u001b[38;5;241m2\u001b[39m:\n\u001b[0;32m--> 251\u001b[0m     \u001b[38;5;28;01mreturn\u001b[39;00m Ugrid2d\u001b[38;5;241m.\u001b[39mfrom_dataset(dataset, topology)\n\u001b[1;32m    252\u001b[0m \u001b[38;5;28;01melif\u001b[39;00m topodim \u001b[38;5;241m==\u001b[39m \u001b[38;5;241m3\u001b[39m:\n\u001b[1;32m    253\u001b[0m     \u001b[38;5;28;01mraise\u001b[39;00m \u001b[38;5;167;01mNotImplementedError\u001b[39;00m\n",
      "File \u001b[0;32m~/.conda/envs/hires_env/lib/python3.11/site-packages/xugrid/ugrid/ugrid2d.py:274\u001b[0m, in \u001b[0;36mUgrid2d.from_dataset\u001b[0;34m(cls, dataset, topology)\u001b[0m\n\u001b[1;32m    272\u001b[0m x_index \u001b[38;5;241m=\u001b[39m coordinates[\u001b[38;5;124m\"\u001b[39m\u001b[38;5;124mnode_coordinates\u001b[39m\u001b[38;5;124m\"\u001b[39m][\u001b[38;5;241m0\u001b[39m][\u001b[38;5;241m0\u001b[39m]\n\u001b[1;32m    273\u001b[0m y_index \u001b[38;5;241m=\u001b[39m coordinates[\u001b[38;5;124m\"\u001b[39m\u001b[38;5;124mnode_coordinates\u001b[39m\u001b[38;5;124m\"\u001b[39m][\u001b[38;5;241m1\u001b[39m][\u001b[38;5;241m0\u001b[39m]\n\u001b[0;32m--> 274\u001b[0m node_x_coordinates \u001b[38;5;241m=\u001b[39m ds[x_index]\u001b[38;5;241m.\u001b[39mastype(FloatDType)\u001b[38;5;241m.\u001b[39mto_numpy()\n\u001b[1;32m    275\u001b[0m node_y_coordinates \u001b[38;5;241m=\u001b[39m ds[y_index]\u001b[38;5;241m.\u001b[39mastype(FloatDType)\u001b[38;5;241m.\u001b[39mto_numpy()\n\u001b[1;32m    277\u001b[0m face_nodes \u001b[38;5;241m=\u001b[39m connectivity[\u001b[38;5;124m\"\u001b[39m\u001b[38;5;124mface_node_connectivity\u001b[39m\u001b[38;5;124m\"\u001b[39m]\n",
      "File \u001b[0;32m~/.conda/envs/hires_env/lib/python3.11/site-packages/xarray/core/dataarray.py:788\u001b[0m, in \u001b[0;36mDataArray.to_numpy\u001b[0;34m(self)\u001b[0m\n\u001b[1;32m    777\u001b[0m \u001b[38;5;28;01mdef\u001b[39;00m \u001b[38;5;21mto_numpy\u001b[39m(\u001b[38;5;28mself\u001b[39m) \u001b[38;5;241m-\u001b[39m\u001b[38;5;241m>\u001b[39m np\u001b[38;5;241m.\u001b[39mndarray:\n\u001b[1;32m    778\u001b[0m \u001b[38;5;250m    \u001b[39m\u001b[38;5;124;03m\"\"\"\u001b[39;00m\n\u001b[1;32m    779\u001b[0m \u001b[38;5;124;03m    Coerces wrapped data to numpy and returns a numpy.ndarray.\u001b[39;00m\n\u001b[1;32m    780\u001b[0m \n\u001b[0;32m   (...)\u001b[0m\n\u001b[1;32m    786\u001b[0m \u001b[38;5;124;03m    DataArray.data\u001b[39;00m\n\u001b[1;32m    787\u001b[0m \u001b[38;5;124;03m    \"\"\"\u001b[39;00m\n\u001b[0;32m--> 788\u001b[0m     \u001b[38;5;28;01mreturn\u001b[39;00m \u001b[38;5;28mself\u001b[39m\u001b[38;5;241m.\u001b[39mvariable\u001b[38;5;241m.\u001b[39mto_numpy()\n",
      "File \u001b[0;32m~/.conda/envs/hires_env/lib/python3.11/site-packages/xarray/core/variable.py:1091\u001b[0m, in \u001b[0;36mVariable.to_numpy\u001b[0;34m(self)\u001b[0m\n\u001b[1;32m   1089\u001b[0m \u001b[38;5;250m\u001b[39m\u001b[38;5;124;03m\"\"\"Coerces wrapped data to numpy and returns a numpy.ndarray\"\"\"\u001b[39;00m\n\u001b[1;32m   1090\u001b[0m \u001b[38;5;66;03m# TODO an entrypoint so array libraries can choose coercion method?\u001b[39;00m\n\u001b[0;32m-> 1091\u001b[0m \u001b[38;5;28;01mreturn\u001b[39;00m to_numpy(\u001b[38;5;28mself\u001b[39m\u001b[38;5;241m.\u001b[39m_data)\n",
      "File \u001b[0;32m~/.conda/envs/hires_env/lib/python3.11/site-packages/xarray/core/pycompat.py:116\u001b[0m, in \u001b[0;36mto_numpy\u001b[0;34m(data)\u001b[0m\n\u001b[1;32m    114\u001b[0m \u001b[38;5;28;01mif\u001b[39;00m \u001b[38;5;28mhasattr\u001b[39m(data, \u001b[38;5;124m\"\u001b[39m\u001b[38;5;124mchunks\u001b[39m\u001b[38;5;124m\"\u001b[39m):\n\u001b[1;32m    115\u001b[0m     chunkmanager \u001b[38;5;241m=\u001b[39m get_chunked_array_type(data)\n\u001b[0;32m--> 116\u001b[0m     data, \u001b[38;5;241m*\u001b[39m_ \u001b[38;5;241m=\u001b[39m chunkmanager\u001b[38;5;241m.\u001b[39mcompute(data)\n\u001b[1;32m    117\u001b[0m \u001b[38;5;28;01mif\u001b[39;00m \u001b[38;5;28misinstance\u001b[39m(data, array_type(\u001b[38;5;124m\"\u001b[39m\u001b[38;5;124mcupy\u001b[39m\u001b[38;5;124m\"\u001b[39m)):\n\u001b[1;32m    118\u001b[0m     data \u001b[38;5;241m=\u001b[39m data\u001b[38;5;241m.\u001b[39mget()\n",
      "File \u001b[0;32m~/.conda/envs/hires_env/lib/python3.11/site-packages/xarray/core/daskmanager.py:70\u001b[0m, in \u001b[0;36mDaskManager.compute\u001b[0;34m(self, *data, **kwargs)\u001b[0m\n\u001b[1;32m     67\u001b[0m \u001b[38;5;28;01mdef\u001b[39;00m \u001b[38;5;21mcompute\u001b[39m(\u001b[38;5;28mself\u001b[39m, \u001b[38;5;241m*\u001b[39mdata: DaskArray, \u001b[38;5;241m*\u001b[39m\u001b[38;5;241m*\u001b[39mkwargs) \u001b[38;5;241m-\u001b[39m\u001b[38;5;241m>\u001b[39m \u001b[38;5;28mtuple\u001b[39m[np\u001b[38;5;241m.\u001b[39mndarray, \u001b[38;5;241m.\u001b[39m\u001b[38;5;241m.\u001b[39m\u001b[38;5;241m.\u001b[39m]:\n\u001b[1;32m     68\u001b[0m     \u001b[38;5;28;01mfrom\u001b[39;00m \u001b[38;5;21;01mdask\u001b[39;00m\u001b[38;5;21;01m.\u001b[39;00m\u001b[38;5;21;01marray\u001b[39;00m \u001b[38;5;28;01mimport\u001b[39;00m compute\n\u001b[0;32m---> 70\u001b[0m     \u001b[38;5;28;01mreturn\u001b[39;00m compute(\u001b[38;5;241m*\u001b[39mdata, \u001b[38;5;241m*\u001b[39m\u001b[38;5;241m*\u001b[39mkwargs)\n",
      "File \u001b[0;32m~/.conda/envs/hires_env/lib/python3.11/site-packages/dask/base.py:665\u001b[0m, in \u001b[0;36mcompute\u001b[0;34m(traverse, optimize_graph, scheduler, get, *args, **kwargs)\u001b[0m\n\u001b[1;32m    662\u001b[0m     postcomputes\u001b[38;5;241m.\u001b[39mappend(x\u001b[38;5;241m.\u001b[39m__dask_postcompute__())\n\u001b[1;32m    664\u001b[0m \u001b[38;5;28;01mwith\u001b[39;00m shorten_traceback():\n\u001b[0;32m--> 665\u001b[0m     results \u001b[38;5;241m=\u001b[39m schedule(dsk, keys, \u001b[38;5;241m*\u001b[39m\u001b[38;5;241m*\u001b[39mkwargs)\n\u001b[1;32m    667\u001b[0m \u001b[38;5;28;01mreturn\u001b[39;00m repack([f(r, \u001b[38;5;241m*\u001b[39ma) \u001b[38;5;28;01mfor\u001b[39;00m r, (f, a) \u001b[38;5;129;01min\u001b[39;00m \u001b[38;5;28mzip\u001b[39m(results, postcomputes)])\n",
      "File \u001b[0;32m~/.conda/envs/hires_env/lib/python3.11/threading.py:629\u001b[0m, in \u001b[0;36mEvent.wait\u001b[0;34m(self, timeout)\u001b[0m\n\u001b[1;32m    627\u001b[0m signaled \u001b[38;5;241m=\u001b[39m \u001b[38;5;28mself\u001b[39m\u001b[38;5;241m.\u001b[39m_flag\n\u001b[1;32m    628\u001b[0m \u001b[38;5;28;01mif\u001b[39;00m \u001b[38;5;129;01mnot\u001b[39;00m signaled:\n\u001b[0;32m--> 629\u001b[0m     signaled \u001b[38;5;241m=\u001b[39m \u001b[38;5;28mself\u001b[39m\u001b[38;5;241m.\u001b[39m_cond\u001b[38;5;241m.\u001b[39mwait(timeout)\n\u001b[1;32m    630\u001b[0m \u001b[38;5;28;01mreturn\u001b[39;00m signaled\n",
      "File \u001b[0;32m~/.conda/envs/hires_env/lib/python3.11/threading.py:331\u001b[0m, in \u001b[0;36mCondition.wait\u001b[0;34m(self, timeout)\u001b[0m\n\u001b[1;32m    329\u001b[0m \u001b[38;5;28;01melse\u001b[39;00m:\n\u001b[1;32m    330\u001b[0m     \u001b[38;5;28;01mif\u001b[39;00m timeout \u001b[38;5;241m>\u001b[39m \u001b[38;5;241m0\u001b[39m:\n\u001b[0;32m--> 331\u001b[0m         gotit \u001b[38;5;241m=\u001b[39m waiter\u001b[38;5;241m.\u001b[39macquire(\u001b[38;5;28;01mTrue\u001b[39;00m, timeout)\n\u001b[1;32m    332\u001b[0m     \u001b[38;5;28;01melse\u001b[39;00m:\n\u001b[1;32m    333\u001b[0m         gotit \u001b[38;5;241m=\u001b[39m waiter\u001b[38;5;241m.\u001b[39macquire(\u001b[38;5;28;01mFalse\u001b[39;00m)\n",
      "\u001b[0;31mKeyboardInterrupt\u001b[0m: "
     ]
    }
   ],
   "source": [
    "data_xr = dfmt.open_partitioned_dataset(input_files, chunks={'time':40})"
   ]
  },
  {
   "cell_type": "code",
   "execution_count": null,
   "metadata": {},
   "outputs": [],
   "source": []
  }
 ],
 "metadata": {
  "kernelspec": {
   "display_name": "Python 3",
   "language": "python",
   "name": "python3"
  },
  "language_info": {
   "codemirror_mode": {
    "name": "ipython",
    "version": 3
   },
   "file_extension": ".py",
   "mimetype": "text/x-python",
   "name": "python",
   "nbconvert_exporter": "python",
   "pygments_lexer": "ipython3",
   "version": "3.11.7"
  }
 },
 "nbformat": 4,
 "nbformat_minor": 2
}
